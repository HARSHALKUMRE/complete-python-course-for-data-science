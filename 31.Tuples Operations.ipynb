{
 "cells": [
  {
   "cell_type": "markdown",
   "id": "9447bab6-a209-4131-83c2-e246f2dd908a",
   "metadata": {},
   "source": [
    "### Operations on Tuples\n",
    "- Arithmetic\n",
    "- Membership\n",
    "- Loop"
   ]
  },
  {
   "cell_type": "code",
   "execution_count": 1,
   "id": "9fe228ad-57f2-46e8-bbf6-427188903ea9",
   "metadata": {},
   "outputs": [
    {
     "data": {
      "text/plain": [
       "(1, 2, 3, 4, 5, 6, 7, 8)"
      ]
     },
     "execution_count": 1,
     "metadata": {},
     "output_type": "execute_result"
    }
   ],
   "source": [
    "# arithmetic operations +, *\n",
    "\n",
    "t1 = (1,2,3,4)\n",
    "t2 = (5,6,7,8)\n",
    "\n",
    "t1 + t2 # concatination"
   ]
  },
  {
   "cell_type": "code",
   "execution_count": null,
   "id": "c9182690-43ab-4a47-abec-ed318f51f4f8",
   "metadata": {},
   "outputs": [],
   "source": [
    "t1 * 4"
   ]
  }
 ],
 "metadata": {
  "kernelspec": {
   "display_name": "Python 3 (ipykernel)",
   "language": "python",
   "name": "python3"
  },
  "language_info": {
   "codemirror_mode": {
    "name": "ipython",
    "version": 3
   },
   "file_extension": ".py",
   "mimetype": "text/x-python",
   "name": "python",
   "nbconvert_exporter": "python",
   "pygments_lexer": "ipython3",
   "version": "3.11.9"
  }
 },
 "nbformat": 4,
 "nbformat_minor": 5
}
