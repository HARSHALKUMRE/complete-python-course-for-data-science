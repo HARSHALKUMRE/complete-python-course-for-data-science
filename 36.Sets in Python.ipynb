{
 "cells": [
  {
   "cell_type": "markdown",
   "id": "4e0109d4-25da-4cfe-882f-013bbfbfef78",
   "metadata": {},
   "source": [
    "### Sets\n",
    "A set is an unordered collection of items. Every set element is unique (no duplicates) and must be immutable (cannot be changed).\n",
    "\n",
    "However, a set itself is mutable. We can add or remove items from it.\n",
    "\n",
    "Sets can also be used to perform mathematical set operations like union, intersection, symmetric difference, etc.\n",
    "\n",
    "Characterstics:\n",
    "\n",
    "- Unordered\n",
    "- Mutable\n",
    "- No Duplicates\n",
    "- Can't contain mutable data types"
   ]
  },
  {
   "cell_type": "markdown",
   "id": "0b3cd293-e153-443b-8232-417736f8ca55",
   "metadata": {},
   "source": [
    "### Creating Sets"
   ]
  },
  {
   "cell_type": "code",
   "execution_count": 1,
   "id": "bb366093-e844-409c-9fd8-2a470628e5ea",
   "metadata": {},
   "outputs": [
    {
     "name": "stdout",
     "output_type": "stream",
     "text": [
      "set()\n",
      "<class 'set'>\n"
     ]
    }
   ],
   "source": [
    "# empty set\n",
    "s = set()\n",
    "print(s)\n",
    "print(type(s))"
   ]
  },
  {
   "cell_type": "code",
   "execution_count": 2,
   "id": "5f9146e8-cdc0-429d-b47d-2f9572cfdc5d",
   "metadata": {},
   "outputs": [
    {
     "name": "stdout",
     "output_type": "stream",
     "text": [
      "{1, 2, 3}\n"
     ]
    }
   ],
   "source": [
    "# 1D\n",
    "s1 = {1,2,3}\n",
    "print(s1)"
   ]
  },
  {
   "cell_type": "code",
   "execution_count": 3,
   "id": "2983f084-0bea-4403-b344-7101f9f265ae",
   "metadata": {},
   "outputs": [
    {
     "ename": "TypeError",
     "evalue": "unhashable type: 'set'",
     "output_type": "error",
     "traceback": [
      "\u001b[1;31m---------------------------------------------------------------------------\u001b[0m",
      "\u001b[1;31mTypeError\u001b[0m                                 Traceback (most recent call last)",
      "Cell \u001b[1;32mIn[3], line 2\u001b[0m\n\u001b[0;32m      1\u001b[0m \u001b[38;5;66;03m# 2D\u001b[39;00m\n\u001b[1;32m----> 2\u001b[0m s2 \u001b[38;5;241m=\u001b[39m {\u001b[38;5;241m1\u001b[39m,\u001b[38;5;241m2\u001b[39m,\u001b[38;5;241m3\u001b[39m,{\u001b[38;5;241m4\u001b[39m,\u001b[38;5;241m5\u001b[39m}}\n\u001b[0;32m      3\u001b[0m \u001b[38;5;28mprint\u001b[39m(s2)\n",
      "\u001b[1;31mTypeError\u001b[0m: unhashable type: 'set'"
     ]
    }
   ],
   "source": [
    "# 2D\n",
    "s2 = {1,2,3,{4,5}}\n",
    "print(s2)"
   ]
  },
  {
   "cell_type": "code",
   "execution_count": 4,
   "id": "f485c317-323e-418e-bbed-9b1243330dbd",
   "metadata": {},
   "outputs": [
    {
     "name": "stdout",
     "output_type": "stream",
     "text": [
      "{1, 'hello', (1, 2, 3), 4.5}\n"
     ]
    }
   ],
   "source": [
    "# homo and hetro\n",
    "s3 = {1,'hello',4.5,(1,2,3)}\n",
    "print(s3)"
   ]
  },
  {
   "cell_type": "code",
   "execution_count": 5,
   "id": "38c4df06-4ad5-46fc-a123-d75ef400a972",
   "metadata": {},
   "outputs": [
    {
     "name": "stdout",
     "output_type": "stream",
     "text": [
      "{1, 2, 3, 4}\n"
     ]
    }
   ],
   "source": [
    "# using type conversion\n",
    "s4 = set([1,2,3,4])\n",
    "print(s4)"
   ]
  },
  {
   "cell_type": "code",
   "execution_count": 6,
   "id": "eebc7fb3-2dd3-4626-8acf-93c13f776d1d",
   "metadata": {},
   "outputs": [
    {
     "name": "stdout",
     "output_type": "stream",
     "text": [
      "{1, 2, 3}\n"
     ]
    }
   ],
   "source": [
    "# duplicates not allowed\n",
    "s5 = {1,1,2,2,3,3}\n",
    "print(s5)"
   ]
  },
  {
   "cell_type": "code",
   "execution_count": 7,
   "id": "58672a33-e9cf-4a43-8bea-5e344db49fc6",
   "metadata": {},
   "outputs": [
    {
     "ename": "TypeError",
     "evalue": "unhashable type: 'list'",
     "output_type": "error",
     "traceback": [
      "\u001b[1;31m---------------------------------------------------------------------------\u001b[0m",
      "\u001b[1;31mTypeError\u001b[0m                                 Traceback (most recent call last)",
      "Cell \u001b[1;32mIn[7], line 2\u001b[0m\n\u001b[0;32m      1\u001b[0m \u001b[38;5;66;03m# set can't have mutable items\u001b[39;00m\n\u001b[1;32m----> 2\u001b[0m s6 \u001b[38;5;241m=\u001b[39m {\u001b[38;5;241m1\u001b[39m,\u001b[38;5;241m2\u001b[39m,[\u001b[38;5;241m3\u001b[39m,\u001b[38;5;241m4\u001b[39m]}\n\u001b[0;32m      3\u001b[0m \u001b[38;5;28mprint\u001b[39m(s6)\n",
      "\u001b[1;31mTypeError\u001b[0m: unhashable type: 'list'"
     ]
    }
   ],
   "source": [
    "# set can't have mutable items\n",
    "s6 = {1,2,[3,4]}\n",
    "print(s6)"
   ]
  },
  {
   "cell_type": "code",
   "execution_count": null,
   "id": "173ce1ba-a607-4143-988a-2d57f8f18c1b",
   "metadata": {},
   "outputs": [],
   "source": [
    "# empty\n",
    "s = set()\n",
    "print(s)\n",
    "print(type(s))\n",
    "\n",
    "# 1D \n",
    "s1 = {1,2,3}\n",
    "print(s1)\n",
    "\n",
    "#2D\n",
    "s2 = {1,2,3,{4,5}}\n",
    "print(s2)\n",
    "\n",
    "# homo and hetro\n",
    "s3 = {1,'hello',4.5,(1,2,3)}\n",
    "print(s3)\n",
    "\n",
    "# using type conversion\n",
    "s4 = set([1,2,3])\n",
    "print(s4)\n",
    "\n",
    "# duplicates not allowed\n",
    "s5 = {1,1,2,2,3,3}\n",
    "print(s5)\n",
    "\n",
    "# set can't have mutable items\n",
    "s6 = {1,2,[3,4]}\n",
    "print(s6)"
   ]
  },
  {
   "cell_type": "code",
   "execution_count": 8,
   "id": "bb9e1f3f-f6fb-48c3-8758-149e965bc86c",
   "metadata": {},
   "outputs": [],
   "source": [
    "s1 = {1,2,3}\n",
    "s2 = {3,2,1}"
   ]
  },
  {
   "cell_type": "code",
   "execution_count": 9,
   "id": "e2e21bc7-64e2-41ff-ab79-8fa6f3867f30",
   "metadata": {},
   "outputs": [
    {
     "data": {
      "text/plain": [
       "True"
      ]
     },
     "execution_count": 9,
     "metadata": {},
     "output_type": "execute_result"
    }
   ],
   "source": [
    "s1 == s2"
   ]
  },
  {
   "cell_type": "markdown",
   "id": "8e42bdbd-bb23-468a-ae42-dd12660662b9",
   "metadata": {},
   "source": [
    "### Accessing Items"
   ]
  },
  {
   "cell_type": "code",
   "execution_count": 10,
   "id": "1a16ffab-6e4c-48ad-8ffa-713edf4d5465",
   "metadata": {},
   "outputs": [],
   "source": [
    "s1 = {1,2,3}"
   ]
  },
  {
   "cell_type": "code",
   "execution_count": 11,
   "id": "098f1f90-b5f3-4b1c-9cce-b9cb8e6f7551",
   "metadata": {},
   "outputs": [
    {
     "ename": "TypeError",
     "evalue": "'set' object is not subscriptable",
     "output_type": "error",
     "traceback": [
      "\u001b[1;31m---------------------------------------------------------------------------\u001b[0m",
      "\u001b[1;31mTypeError\u001b[0m                                 Traceback (most recent call last)",
      "Cell \u001b[1;32mIn[11], line 1\u001b[0m\n\u001b[1;32m----> 1\u001b[0m s1[\u001b[38;5;241m0\u001b[39m]\n",
      "\u001b[1;31mTypeError\u001b[0m: 'set' object is not subscriptable"
     ]
    }
   ],
   "source": [
    "s1[0]"
   ]
  },
  {
   "cell_type": "code",
   "execution_count": 12,
   "id": "a7bead73-55c0-4e61-a0ff-8df467ce3b10",
   "metadata": {},
   "outputs": [
    {
     "ename": "TypeError",
     "evalue": "'set' object is not subscriptable",
     "output_type": "error",
     "traceback": [
      "\u001b[1;31m---------------------------------------------------------------------------\u001b[0m",
      "\u001b[1;31mTypeError\u001b[0m                                 Traceback (most recent call last)",
      "Cell \u001b[1;32mIn[12], line 1\u001b[0m\n\u001b[1;32m----> 1\u001b[0m s3[\u001b[38;5;241m0\u001b[39m:\u001b[38;5;241m1\u001b[39m]\n",
      "\u001b[1;31mTypeError\u001b[0m: 'set' object is not subscriptable"
     ]
    }
   ],
   "source": [
    "s3[0:1]"
   ]
  },
  {
   "cell_type": "code",
   "execution_count": 13,
   "id": "e0af4d98-471e-49d2-ba0a-c235e427785a",
   "metadata": {},
   "outputs": [
    {
     "name": "stdout",
     "output_type": "stream",
     "text": [
      "{1, 'hello', (1, 2, 3), 4.5}\n"
     ]
    }
   ],
   "source": [
    "s3 = {1,'hello',4.5,(1,2,3)}\n",
    "print(s3)"
   ]
  },
  {
   "cell_type": "code",
   "execution_count": 14,
   "id": "186da618-299f-47a5-b2d6-b66c75073752",
   "metadata": {},
   "outputs": [
    {
     "ename": "TypeError",
     "evalue": "'set' object does not support item assignment",
     "output_type": "error",
     "traceback": [
      "\u001b[1;31m---------------------------------------------------------------------------\u001b[0m",
      "\u001b[1;31mTypeError\u001b[0m                                 Traceback (most recent call last)",
      "Cell \u001b[1;32mIn[14], line 5\u001b[0m\n\u001b[0;32m      1\u001b[0m \u001b[38;5;66;03m# Editing Items\u001b[39;00m\n\u001b[0;32m      3\u001b[0m s1 \u001b[38;5;241m=\u001b[39m {\u001b[38;5;241m1\u001b[39m,\u001b[38;5;241m2\u001b[39m,\u001b[38;5;241m3\u001b[39m}\n\u001b[1;32m----> 5\u001b[0m s1[\u001b[38;5;241m0\u001b[39m] \u001b[38;5;241m=\u001b[39m \u001b[38;5;241m100\u001b[39m\n",
      "\u001b[1;31mTypeError\u001b[0m: 'set' object does not support item assignment"
     ]
    }
   ],
   "source": [
    "# Editing Items\n",
    "\n",
    "s1 = {1,2,3}\n",
    "\n",
    "s1[0] = 100"
   ]
  },
  {
   "cell_type": "code",
   "execution_count": 15,
   "id": "773ae9f9-f977-4074-aaab-0b3f9bdfb268",
   "metadata": {},
   "outputs": [],
   "source": [
    "# Adding Items\n",
    "\n",
    "S = {1,2,3,4}\n",
    "S.add(5)"
   ]
  },
  {
   "cell_type": "code",
   "execution_count": 16,
   "id": "64804c27-03e4-47ba-9abb-d1f4f990279d",
   "metadata": {},
   "outputs": [
    {
     "data": {
      "text/plain": [
       "{1, 2, 3, 4, 5}"
      ]
     },
     "execution_count": 16,
     "metadata": {},
     "output_type": "execute_result"
    }
   ],
   "source": [
    "S"
   ]
  },
  {
   "cell_type": "code",
   "execution_count": 17,
   "id": "d845c3b3-3297-4353-b571-b8b9f7983377",
   "metadata": {},
   "outputs": [
    {
     "name": "stdout",
     "output_type": "stream",
     "text": [
      "{1, 2, 3, 4, 5, 11, 12, 13}\n"
     ]
    }
   ],
   "source": [
    "S.update([11,12,13])\n",
    "print(S)"
   ]
  },
  {
   "cell_type": "code",
   "execution_count": 18,
   "id": "70caad2e-88e4-41e1-95bd-683bc07feb4a",
   "metadata": {},
   "outputs": [
    {
     "ename": "TypeError",
     "evalue": "'set' object doesn't support item deletion",
     "output_type": "error",
     "traceback": [
      "\u001b[1;31m---------------------------------------------------------------------------\u001b[0m",
      "\u001b[1;31mTypeError\u001b[0m                                 Traceback (most recent call last)",
      "Cell \u001b[1;32mIn[18], line 1\u001b[0m\n\u001b[1;32m----> 1\u001b[0m \u001b[38;5;28;01mdel\u001b[39;00m S[\u001b[38;5;241m0\u001b[39m]\n",
      "\u001b[1;31mTypeError\u001b[0m: 'set' object doesn't support item deletion"
     ]
    }
   ],
   "source": [
    "del S[0]"
   ]
  },
  {
   "cell_type": "code",
   "execution_count": 19,
   "id": "dca8ba66-4eaa-415d-bbc6-53d792663c2e",
   "metadata": {},
   "outputs": [
    {
     "name": "stdout",
     "output_type": "stream",
     "text": [
      "{1, 2, 3, 4}\n"
     ]
    }
   ],
   "source": [
    "# Deleting Items\n",
    "\n",
    "s = {1,2,3,4,5}\n",
    "s.discard(5)\n",
    "print(s)"
   ]
  },
  {
   "cell_type": "code",
   "execution_count": 20,
   "id": "bed0ee70-4614-4c3b-b1ab-e6c8f1b30a3c",
   "metadata": {},
   "outputs": [
    {
     "name": "stdout",
     "output_type": "stream",
     "text": [
      "{1, 2, 3, 4, 5}\n"
     ]
    }
   ],
   "source": [
    "# remove\n",
    "s = {1,2,3,4,5,50}\n",
    "s.remove(50)\n",
    "print(s)"
   ]
  },
  {
   "cell_type": "code",
   "execution_count": 21,
   "id": "b091d711-1361-4c06-b205-ba3ec1023b0f",
   "metadata": {},
   "outputs": [
    {
     "name": "stdout",
     "output_type": "stream",
     "text": [
      "{2, 3, 4, 5, 50}\n"
     ]
    }
   ],
   "source": [
    "# pop\n",
    "s = {1,2,3,4,5,50}\n",
    "s.pop()\n",
    "print(s)"
   ]
  },
  {
   "cell_type": "code",
   "execution_count": 22,
   "id": "0fb5eea6-f6b8-4b8e-8443-20f85ba269d6",
   "metadata": {},
   "outputs": [
    {
     "name": "stdout",
     "output_type": "stream",
     "text": [
      "set()\n"
     ]
    }
   ],
   "source": [
    "# clear\n",
    "s = {1,2,3,4,5,50}\n",
    "s.clear()\n",
    "print(s)"
   ]
  },
  {
   "cell_type": "code",
   "execution_count": null,
   "id": "586a7889-469e-42e7-8583-cc7156d97e00",
   "metadata": {},
   "outputs": [],
   "source": []
  }
 ],
 "metadata": {
  "kernelspec": {
   "display_name": "Python 3 (ipykernel)",
   "language": "python",
   "name": "python3"
  },
  "language_info": {
   "codemirror_mode": {
    "name": "ipython",
    "version": 3
   },
   "file_extension": ".py",
   "mimetype": "text/x-python",
   "name": "python",
   "nbconvert_exporter": "python",
   "pygments_lexer": "ipython3",
   "version": "3.11.9"
  }
 },
 "nbformat": 4,
 "nbformat_minor": 5
}
