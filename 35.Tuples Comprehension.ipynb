{
 "cells": [
  {
   "cell_type": "markdown",
   "id": "8577028b-2838-488d-8f6a-6e009090515b",
   "metadata": {},
   "source": [
    "### Tuple Comprehension\n",
    "You might have read about list comprehension in Python. However, there is no tuple comprehension in Python. But We will discuss how we can emulate tuple comprehension in Python."
   ]
  },
  {
   "cell_type": "code",
   "execution_count": 1,
   "id": "88148e9d-a239-4a14-94eb-7481d5d8a8f5",
   "metadata": {},
   "outputs": [
    {
     "name": "stdout",
     "output_type": "stream",
     "text": [
      "[1, 2, 3, 4, 5, 6, 7, 8, 9, 10]\n"
     ]
    }
   ],
   "source": [
    "# Add 1 to 10 numbers from list\n",
    "\n",
    "L = []\n",
    "\n",
    "for i in range(1,11):\n",
    "    L.append(i)\n",
    "\n",
    "print(L)"
   ]
  },
  {
   "cell_type": "code",
   "execution_count": 4,
   "id": "6cb79f25-2db1-44e8-ae87-6e070d0d3def",
   "metadata": {},
   "outputs": [
    {
     "data": {
      "text/plain": [
       "(1, 2, 3, 4, 5, 6, 7, 8, 9, 10)"
      ]
     },
     "execution_count": 4,
     "metadata": {},
     "output_type": "execute_result"
    }
   ],
   "source": [
    "tuple(i for i in range(1,11))"
   ]
  },
  {
   "cell_type": "code",
   "execution_count": 5,
   "id": "66787cbc-0e23-4cf5-8a63-e33cdfdd60f6",
   "metadata": {},
   "outputs": [
    {
     "name": "stdout",
     "output_type": "stream",
     "text": [
      "(1, 2, 3, 4, 5, 6, 7, 8, 9, 10)\n"
     ]
    }
   ],
   "source": [
    "TC = tuple((i for i in range(1,11)))\n",
    "print(TC)"
   ]
  },
  {
   "cell_type": "code",
   "execution_count": 6,
   "id": "aef30a73-1a4e-442e-a6ca-72799cc44152",
   "metadata": {},
   "outputs": [
    {
     "name": "stdout",
     "output_type": "stream",
     "text": [
      "[-6, -9, -12]\n"
     ]
    }
   ],
   "source": [
    "# scalar multiplication on a vector\n",
    "\n",
    "v = [2,3,4]\n",
    "s = -3\n",
    "\n",
    "L = []\n",
    "\n",
    "for i in v:\n",
    "    result = i * s\n",
    "    L.append(result)\n",
    "\n",
    "print(L)"
   ]
  },
  {
   "cell_type": "code",
   "execution_count": 7,
   "id": "14aa2f21-f852-460e-97bf-c6a14e09dc0f",
   "metadata": {},
   "outputs": [
    {
     "name": "stdout",
     "output_type": "stream",
     "text": [
      "(-6, -9, -12)\n"
     ]
    }
   ],
   "source": [
    "TC = tuple((i*s for i in v))\n",
    "print(TC)"
   ]
  },
  {
   "cell_type": "code",
   "execution_count": 9,
   "id": "734b353d-abf1-40ec-8c9a-aa168f51654c",
   "metadata": {},
   "outputs": [
    {
     "name": "stdout",
     "output_type": "stream",
     "text": [
      "(-6, -9, -12)\n"
     ]
    }
   ],
   "source": [
    "tuple_com = tuple((i * s for i in v))\n",
    "print(tuple_com)"
   ]
  },
  {
   "cell_type": "code",
   "execution_count": 10,
   "id": "cb12381e-0c6f-4954-9faa-83345ecbd6fa",
   "metadata": {},
   "outputs": [
    {
     "name": "stdout",
     "output_type": "stream",
     "text": [
      "(1, 4, 9, 16)\n"
     ]
    }
   ],
   "source": [
    "# Add squares\n",
    "\n",
    "T = (1,2,3,4)\n",
    "\n",
    "TC = tuple((i**2 for i in T))\n",
    "\n",
    "print(TC)"
   ]
  },
  {
   "cell_type": "code",
   "execution_count": 11,
   "id": "7b96aa40-9eae-4fba-bcd9-e41e4158dfa7",
   "metadata": {},
   "outputs": [
    {
     "name": "stdout",
     "output_type": "stream",
     "text": [
      "5\n",
      "10\n",
      "15\n",
      "20\n",
      "25\n",
      "30\n",
      "35\n",
      "40\n",
      "45\n",
      "50\n"
     ]
    }
   ],
   "source": [
    "# Print all numbers divisible by 5 in the range of 1 to 50\n",
    "\n",
    "for i in range(1,51):\n",
    "    if i%5==0:\n",
    "        print(i)"
   ]
  },
  {
   "cell_type": "code",
   "execution_count": null,
   "id": "49fe2046-8f98-4281-95ee-53a727169520",
   "metadata": {},
   "outputs": [],
   "source": [
    "TC = tuple((i for i in range(1,51) if i%5==0))\n",
    "print(TC)"
   ]
  }
 ],
 "metadata": {
  "kernelspec": {
   "display_name": "Python 3 (ipykernel)",
   "language": "python",
   "name": "python3"
  },
  "language_info": {
   "codemirror_mode": {
    "name": "ipython",
    "version": 3
   },
   "file_extension": ".py",
   "mimetype": "text/x-python",
   "name": "python",
   "nbconvert_exporter": "python",
   "pygments_lexer": "ipython3",
   "version": "3.11.9"
  }
 },
 "nbformat": 4,
 "nbformat_minor": 5
}
