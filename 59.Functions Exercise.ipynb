{
 "cells": [
  {
   "cell_type": "markdown",
   "id": "deb5f97c-9f95-4da6-8251-79d6845cc62c",
   "metadata": {},
   "source": [
    "### `Problem-1`: Write a Python function that takes a list and returns a new list with unique elements of the first list.\n",
    "\n",
    "Example:\r\n",
    "\r\n",
    "Input\r\n",
    "\r\n",
    "[1,2,3,3,3,3,4\n",
    ",5]\r\n",
    "Output:\r\n",
    "\r\n",
    "[1, 2, 3, 4, 5]"
   ]
  },
  {
   "cell_type": "code",
   "execution_count": 1,
   "id": "618f8c78-da34-4c09-b29c-79f276baf67c",
   "metadata": {},
   "outputs": [
    {
     "data": {
      "text/plain": [
       "[1, 2, 3, 4, 5]"
      ]
     },
     "execution_count": 1,
     "metadata": {},
     "output_type": "execute_result"
    }
   ],
   "source": [
    "def unique_items(L):\n",
    "    results = []\n",
    "    for i in L:\n",
    "        if i not in results:\n",
    "            results.append(i)\n",
    "    return results\n",
    "\n",
    "L = [1,2,3,3,3,3,4,5]\n",
    "unique_items(L)"
   ]
  },
  {
   "cell_type": "markdown",
   "id": "5f127127-6f87-420e-9c64-39084f7a9922",
   "metadata": {},
   "source": [
    "### `Problem-2:` Write a Python function that accepts a hyphen-separated sequence of words as parameter and returns the words in a hyphen-separated sequence after sorting them alphabetically.\n",
    "Example:\n",
    "\n",
    "Input:\n",
    "\n",
    "green-red-yellow-black-white\n",
    "\n",
    "Output:\n",
    "\n",
    "black-green-red-white-yellow"
   ]
  },
  {
   "cell_type": "code",
   "execution_count": 2,
   "id": "175807e1-dae9-4be4-8cb8-c12f7cc071ba",
   "metadata": {},
   "outputs": [
    {
     "name": "stdout",
     "output_type": "stream",
     "text": [
      "black-green-red-white-yellow\n"
     ]
    }
   ],
   "source": [
    "def sort_sequence(input):\n",
    "    temp = []\n",
    "    for i in sorted(input.split(\"-\")):\n",
    "        temp.append(i)\n",
    "    return \"-\".join(temp)\n",
    "\n",
    "input = \"green-red-yellow-black-white\"\n",
    "output = sort_sequence(input)\n",
    "print(output)"
   ]
  },
  {
   "cell_type": "markdown",
   "id": "1310d9e6-4401-4822-be72-c9f44fbd9938",
   "metadata": {},
   "source": [
    "### `Problem 3-` A dictionary contains following information about 5 employees:\n",
    "- First name\n",
    "- Last name\n",
    "- Age\n",
    "- Grade(Skilled,Semi-skilled,Highly skilled)\n",
    "\n",
    "Write a program using map/filter/reduce to a list of employees(first name + last name) who are highly skilled"
   ]
  },
  {
   "cell_type": "code",
   "execution_count": 4,
   "id": "303f7d60-6b75-4043-b545-ff89ef6c8f0a",
   "metadata": {},
   "outputs": [],
   "source": [
    "employees = [\n",
    "    {\n",
    "        'fname':'Harshal',\n",
    "        'lname':'Kumre',\n",
    "        'age' : 33,\n",
    "        'grade':'skilled'\n",
    "    },\n",
    "    {\n",
    "        'fname':'Alex',\n",
    "        'lname':'Musk',\n",
    "        'age' : 34,\n",
    "        'grade':'semi-skilled'\n",
    "    },\n",
    "    {\n",
    "        'fname':'Bunny',\n",
    "        'lname':'Singh',\n",
    "        'age' : 35,\n",
    "        'grade':'highly-skilled'\n",
    "    },\n",
    "    {\n",
    "        'fname':'Anurag',\n",
    "        'lname':'Kumar',\n",
    "        'age' : 30,\n",
    "        'grade':'skilled'\n",
    "    },\n",
    "    {\n",
    "        'fname':'Abhinav',\n",
    "        'lname':'Sharma',\n",
    "        'age' : 37,\n",
    "        'grade':'highly-skilled'\n",
    "    }\n",
    "    \n",
    "]"
   ]
  },
  {
   "cell_type": "code",
   "execution_count": 5,
   "id": "a21f5587-dff5-4b41-8f59-c2b42433f58b",
   "metadata": {},
   "outputs": [
    {
     "data": {
      "text/plain": [
       "['Bunny Singh', 'Abhinav Sharma']"
      ]
     },
     "execution_count": 5,
     "metadata": {},
     "output_type": "execute_result"
    }
   ],
   "source": [
    "list(map(lambda x:x['fname'] + \" \" + x['lname'], list(filter(lambda x: True if x['grade'] == \"highly-skilled\" else False,employees))))"
   ]
  },
  {
   "cell_type": "code",
   "execution_count": null,
   "id": "0aba7ae1-e109-4b9d-abdc-2f709332f75e",
   "metadata": {},
   "outputs": [],
   "source": []
  }
 ],
 "metadata": {
  "kernelspec": {
   "display_name": "Python 3 (ipykernel)",
   "language": "python",
   "name": "python3"
  },
  "language_info": {
   "codemirror_mode": {
    "name": "ipython",
    "version": 3
   },
   "file_extension": ".py",
   "mimetype": "text/x-python",
   "name": "python",
   "nbconvert_exporter": "python",
   "pygments_lexer": "ipython3",
   "version": "3.11.9"
  }
 },
 "nbformat": 4,
 "nbformat_minor": 5
}
