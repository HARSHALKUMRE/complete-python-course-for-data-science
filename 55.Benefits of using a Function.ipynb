{
 "cells": [
  {
   "cell_type": "markdown",
   "id": "1439564e-5cd4-475d-b01f-d55301291976",
   "metadata": {},
   "source": [
    "## Benefits of using a Function\n",
    "- Code Modularity\n",
    "- Code Readibility\n",
    "- Code Reusability"
   ]
  },
  {
   "cell_type": "code",
   "execution_count": null,
   "id": "bd00f1ab-9289-4386-a22e-5cdb712ff8ef",
   "metadata": {},
   "outputs": [],
   "source": [
    "def odd_even(num):\n",
    "    \"\"\"\n",
    "    This function checks if a given number is odd or even.\n",
    "    input: any valid number/integer\n",
    "    output: odd / even\n",
    "    Created Date: 10-16-2024\n",
    "    \"\"\"\n",
    "    if type(num) == int:\n",
    "        if num % 2 == 0:\n",
    "            return \"Even Number\"\n",
    "        else"
   ]
  }
 ],
 "metadata": {
  "kernelspec": {
   "display_name": "Python 3 (ipykernel)",
   "language": "python",
   "name": "python3"
  },
  "language_info": {
   "codemirror_mode": {
    "name": "ipython",
    "version": 3
   },
   "file_extension": ".py",
   "mimetype": "text/x-python",
   "name": "python",
   "nbconvert_exporter": "python",
   "pygments_lexer": "ipython3",
   "version": "3.11.9"
  }
 },
 "nbformat": 4,
 "nbformat_minor": 5
}
