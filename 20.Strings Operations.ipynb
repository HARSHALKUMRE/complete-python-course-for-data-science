{
 "cells": [
  {
   "cell_type": "markdown",
   "id": "4e91b2a5-936d-4480-badc-c10bfd9796bb",
   "metadata": {},
   "source": [
    "### Operations on Strings\n",
    "- Arithmetic Operations\n",
    "- Relational Operations\n",
    "- Logical Operations\n",
    "- Loops on Strings\n",
    "- Membership Operations"
   ]
  },
  {
   "cell_type": "code",
   "execution_count": 1,
   "id": "c05459d1-0a30-45fa-93e5-624cb4053583",
   "metadata": {},
   "outputs": [
    {
     "name": "stdout",
     "output_type": "stream",
     "text": [
      "Hi Everyone\n"
     ]
    }
   ],
   "source": [
    "# Arithmetic Operations\n",
    "\n",
    "print(\"Hi\" + \" \" + \"Everyone\") #concatination"
   ]
  },
  {
   "cell_type": "code",
   "execution_count": 2,
   "id": "60046362-598f-4763-85ee-6cca5d3162eb",
   "metadata": {},
   "outputs": [
    {
     "name": "stdout",
     "output_type": "stream",
     "text": [
      "HiHiHiHiHi\n"
     ]
    }
   ],
   "source": [
    "print(\"Hi\" * 5)"
   ]
  },
  {
   "cell_type": "code",
   "execution_count": 3,
   "id": "f83ad40a-6073-4a60-90ce-52f50e97def9",
   "metadata": {},
   "outputs": [
    {
     "name": "stdout",
     "output_type": "stream",
     "text": [
      "****************************************************************************************************\n"
     ]
    }
   ],
   "source": [
    "print(\"*\" * 100)"
   ]
  },
  {
   "cell_type": "code",
   "execution_count": 4,
   "id": "9982380b-f6fb-4473-9cab-952ebd3bce2f",
   "metadata": {},
   "outputs": [
    {
     "name": "stdout",
     "output_type": "stream",
     "text": [
      "True\n",
      "True\n",
      "False\n",
      "True\n",
      "True\n"
     ]
    }
   ],
   "source": [
    "# Relational Operations\n",
    "\n",
    "print(\"Hello\" == \"Hello\") # equality\n",
    "print(\"Hello\"!= \"World\") # not equal\n",
    "print(\"Hello\" > \"Hi\") # greater than\n",
    "print(\"Hello\" < \"World\") # less than\n",
    "print(\"Hello\" >= \"Hello\") # greater than or equal to"
   ]
  },
  {
   "cell_type": "code",
   "execution_count": 5,
   "id": "2e69adc2-4245-4614-be49-d9060fb7ca1e",
   "metadata": {},
   "outputs": [
    {
     "data": {
      "text/plain": [
       "'world'"
      ]
     },
     "execution_count": 5,
     "metadata": {},
     "output_type": "execute_result"
    }
   ],
   "source": [
    "# Logical Operations\n",
    "\n",
    "\"hello\" and 'world'"
   ]
  },
  {
   "cell_type": "code",
   "execution_count": 6,
   "id": "3d0ad229-0e18-4855-a072-f8268d0e7b8c",
   "metadata": {},
   "outputs": [
    {
     "data": {
      "text/plain": [
       "'hello'"
      ]
     },
     "execution_count": 6,
     "metadata": {},
     "output_type": "execute_result"
    }
   ],
   "source": [
    "\"hello\" or 'world'"
   ]
  },
  {
   "cell_type": "code",
   "execution_count": 7,
   "id": "967e1734-bffa-4e86-8212-60b0f75b527d",
   "metadata": {},
   "outputs": [
    {
     "data": {
      "text/plain": [
       "False"
      ]
     },
     "execution_count": 7,
     "metadata": {},
     "output_type": "execute_result"
    }
   ],
   "source": [
    "not \"hello\""
   ]
  },
  {
   "cell_type": "code",
   "execution_count": 8,
   "id": "a63f5fac-edea-4290-9d39-612ae47e9378",
   "metadata": {},
   "outputs": [
    {
     "name": "stdout",
     "output_type": "stream",
     "text": [
      "H\n",
      "a\n",
      "r\n",
      "s\n",
      "h\n",
      "a\n",
      "l\n"
     ]
    }
   ],
   "source": [
    "# Loops on Strings\n",
    "\n",
    "for i in \"Harshal\":\n",
    "    print(i)"
   ]
  },
  {
   "cell_type": "code",
   "execution_count": 9,
   "id": "6a867055-fdba-4844-9dd3-78619ae8cd7c",
   "metadata": {},
   "outputs": [
    {
     "name": "stdout",
     "output_type": "stream",
     "text": [
      "Hello\n",
      "Hello\n",
      "Hello\n",
      "Hello\n",
      "Hello\n",
      "Hello\n",
      "Hello\n"
     ]
    }
   ],
   "source": [
    "for i in \"harshal\":\n",
    "    print(\"Hello\")"
   ]
  },
  {
   "cell_type": "code",
   "execution_count": 10,
   "id": "81b3c7d2-01f2-4201-9178-b314e54d362d",
   "metadata": {},
   "outputs": [
    {
     "data": {
      "text/plain": [
       "True"
      ]
     },
     "execution_count": 10,
     "metadata": {},
     "output_type": "execute_result"
    }
   ],
   "source": [
    "# Membership Operations\n",
    "\n",
    "'B' not in \"Harshal\"\n"
   ]
  },
  {
   "cell_type": "code",
   "execution_count": null,
   "id": "6f8cf09c-0baa-436b-8563-f40a28fb4258",
   "metadata": {},
   "outputs": [],
   "source": []
  }
 ],
 "metadata": {
  "kernelspec": {
   "display_name": "Python 3 (ipykernel)",
   "language": "python",
   "name": "python3"
  },
  "language_info": {
   "codemirror_mode": {
    "name": "ipython",
    "version": 3
   },
   "file_extension": ".py",
   "mimetype": "text/x-python",
   "name": "python",
   "nbconvert_exporter": "python",
   "pygments_lexer": "ipython3",
   "version": "3.11.9"
  }
 },
 "nbformat": 4,
 "nbformat_minor": 5
}
