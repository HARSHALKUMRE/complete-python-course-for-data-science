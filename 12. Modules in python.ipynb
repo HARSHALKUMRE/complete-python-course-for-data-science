{
 "cells": [
  {
   "cell_type": "markdown",
   "id": "a69884b7-2816-4ff4-9490-54fc7d02b61c",
   "metadata": {},
   "source": [
    "1. Builtins Module / Package\n",
    "2. External Module / Package\n",
    "\n",
    "### Builtins Module / Package\n",
    "\n",
    "- math\n",
    "- keywords\n",
    "- random\n",
    "- datetime"
   ]
  },
  {
   "cell_type": "code",
   "execution_count": 1,
   "id": "2672e4ef-c448-46d2-89e8-c7f4beb462ef",
   "metadata": {},
   "outputs": [
    {
     "data": {
      "text/plain": [
       "14.0"
      ]
     },
     "execution_count": 1,
     "metadata": {},
     "output_type": "execute_result"
    }
   ],
   "source": [
    "import math\n",
    "\n",
    "math.sqrt(196)"
   ]
  },
  {
   "cell_type": "code",
   "execution_count": 2,
   "id": "d93c2c15-664c-4f48-83ea-780a37e4941f",
   "metadata": {},
   "outputs": [
    {
     "data": {
      "text/plain": [
       "5.0"
      ]
     },
     "execution_count": 2,
     "metadata": {},
     "output_type": "execute_result"
    }
   ],
   "source": [
    "math.sqrt(25)"
   ]
  },
  {
   "cell_type": "code",
   "execution_count": 3,
   "id": "7db92042-2817-4f29-ac3b-5ecdf5b822c3",
   "metadata": {},
   "outputs": [
    {
     "data": {
      "text/plain": [
       "720"
      ]
     },
     "execution_count": 3,
     "metadata": {},
     "output_type": "execute_result"
    }
   ],
   "source": [
    "math.factorial(6)"
   ]
  },
  {
   "cell_type": "code",
   "execution_count": 4,
   "id": "a00cf09b-5e35-44de-b7f2-b6dbc550a081",
   "metadata": {},
   "outputs": [
    {
     "name": "stdout",
     "output_type": "stream",
     "text": [
      "['False', 'None', 'True', 'and', 'as', 'assert', 'async', 'await', 'break', 'class', 'continue', 'def', 'del', 'elif', 'else', 'except', 'finally', 'for', 'from', 'global', 'if', 'import', 'in', 'is', 'lambda', 'nonlocal', 'not', 'or', 'pass', 'raise', 'return', 'try', 'while', 'with', 'yield']\n"
     ]
    }
   ],
   "source": [
    "import keyword\n",
    "\n",
    "print(keyword.kwlist)"
   ]
  },
  {
   "cell_type": "code",
   "execution_count": 5,
   "id": "9e24bbe1-c00a-4fc5-aa49-a763e8dc9c21",
   "metadata": {},
   "outputs": [
    {
     "name": "stdout",
     "output_type": "stream",
     "text": [
      "79\n"
     ]
    }
   ],
   "source": [
    "import random\n",
    "\n",
    "print(random.randint(1,100))"
   ]
  },
  {
   "cell_type": "code",
   "execution_count": 6,
   "id": "0ca3f21d-8807-4a70-be36-3451d485ff2b",
   "metadata": {},
   "outputs": [
    {
     "name": "stdout",
     "output_type": "stream",
     "text": [
      "2024-10-09 18:24:24.876329\n"
     ]
    }
   ],
   "source": [
    "import datetime\n",
    "\n",
    "print(datetime.datetime.now())"
   ]
  },
  {
   "cell_type": "code",
   "execution_count": 7,
   "id": "5a2e9d90-d9ae-4848-b03e-f2401408b347",
   "metadata": {},
   "outputs": [
    {
     "name": "stdout",
     "output_type": "stream",
     "text": [
      "\n",
      "Please wait a moment while I gather a list of all available modules...\n",
      "\n"
     ]
    },
    {
     "name": "stderr",
     "output_type": "stream",
     "text": [
      "C:\\Users\\durge\\anaconda3\\Lib\\site-packages\\paramiko\\transport.py:219: CryptographyDeprecationWarning: Blowfish has been deprecated and will be removed in a future release\n",
      "  \"class\": algorithms.Blowfish,\n",
      "C:\\Users\\durge\\anaconda3\\Lib\\site-packages\\nltk\\twitter\\__init__.py:20: UserWarning: The twython library has not been installed. Some functionality from the twitter package will not be available.\n",
      "  warnings.warn(\n",
      "C:\\Users\\durge\\anaconda3\\Lib\\pkgutil.py:92: UserWarning: The numpy.array_api submodule is still experimental. See NEP 47.\n",
      "  __import__(info.name)\n",
      "C:\\Users\\durge\\anaconda3\\Lib\\site-packages\\_distutils_hack\\__init__.py:26: UserWarning: Setuptools is replacing distutils.\n",
      "  warnings.warn(\"Setuptools is replacing distutils.\")\n",
      "[2024-10-09 18:26:57,649] No QCoreApplication instance found. Application patches not applied. You have to call load_stylesheet function after instantiation of QApplication to take effect. \n"
     ]
    },
    {
     "name": "stdout",
     "output_type": "stream",
     "text": [
      "7f0197f6d050da244d93__mypyc conda_build         matplotlib_inline   snappy\n",
      "IPython             conda_content_trust mccabe              sndhdr\n",
      "OpenSSL             conda_env           mdit_py_plugins     sniffio\n",
      "PIL                 conda_index         mdurl               snowballstemmer\n",
      "PyQt5               conda_libmamba_solver menuinst            socket\n",
      "__future__          conda_pack          mimetypes           socketio\n",
      "__hello__           conda_package_handling mistune             socketserver\n",
      "__phello__          conda_package_streaming mkl                 socks\n",
      "_abc                conda_token         mkl_fft             sockshandler\n",
      "_aix_support        conda_verify        mmap                sortedcontainers\n",
      "_argon2_cffi_bindings configparser        mmapfile            soupsieve\n",
      "_ast                constantly          mmsystem            sphinx\n",
      "_asyncio            contextlib          modulefinder        spyder\n",
      "_bisect             contextvars         more_itertools      spyder_kernels\n",
      "_black_version      contourpy           mpmath              sqlalchemy\n",
      "_blake2             cookiecutter        msgpack             sqlite3\n",
      "_bootsubprocess     copy                msilib              src\n",
      "_brotli             copyreg             msvcrt              sre_compile\n",
      "_bz2                cpuinfo             multidict           sre_constants\n",
      "_cffi_backend       crypt               multipart           sre_parse\n",
      "_codecs             cryptography        multipledispatch    ssl\n",
      "_codecs_cn          cssselect           multiprocessing     sspi\n",
      "_codecs_hk          csv                 mypy                sspicon\n",
      "_codecs_iso2022     ctypes              mypy_extensions     stack_data\n",
      "_codecs_jp          curl                mypyc               starlette\n",
      "_codecs_kr          curses              nacl                stat\n",
      "_codecs_tw          cwp                 navigator_updater   statistics\n",
      "_collections        cycler              nbclient            statsmodels\n",
      "_collections_abc    cytoolz             nbconvert           streamlit\n",
      "_compat_pickle      dask                nbformat            string\n",
      "_compression        dask_expr           nest_asyncio        stringprep\n",
      "_contextvars        dataclasses         netbios             struct\n",
      "_csv                dataclasses_json    netrc               subprocess\n",
      "_ctypes             datashader          networkx            sunau\n",
      "_ctypes_test        datetime            nltk                sympy\n",
      "_datetime           dateutil            nntplib             symtable\n",
      "_decimal            dbi                 notebook            syncer\n",
      "_distutils_hack     dbm                 notebook_shim       sys\n",
      "_elementtree        dde                 nt                  sysconfig\n",
      "_functools          debugpy             ntpath              tables\n",
      "_hashlib            decimal             ntsecuritycon       tabnanny\n",
      "_heapq              decorator           nturl2path          tabulate\n",
      "_imp                defusedxml          numba               tarfile\n",
      "_io                 deprecated          numbergen           tblib\n",
      "_json               diff_match_patch    numbers             telnetlib\n",
      "_locale             difflib             numexpr             tempfile\n",
      "_lsprof             dill                numpy               tenacity\n",
      "_lzma               dis                 numpydoc            terminado\n",
      "_markupbase         distributed         odbc                test\n",
      "_md5                distro              opcode              test_pycosat\n",
      "_msi                distutils           openai              tests\n",
      "_multibytecodec     docstring_to_markdown openpyxl            text_unidecode\n",
      "_multiprocessing    doctest             operator            textdistance\n",
      "_nsis               docutils            optparse            textwrap\n",
      "_opcode             dotenv              os                  this\n",
      "_operator           email               overrides           threading\n",
      "_osx_support        encodings           packaging           threadpoolctl\n",
      "_overlapped         engineio            pandas              three_merge\n",
      "_pickle             ensurepip           pandocfilters       tifffile\n",
      "_plotly_future_     entrypoints         panel               time\n",
      "_plotly_utils       enum                param               timeit\n",
      "_py_abc             erfa                paramiko            timer\n",
      "_pydecimal          errno               parsel              tinycss2\n",
      "_pyio               et_xmlfile          parso               tkinter\n",
      "_pytest             executing           partd               tldextract\n",
      "_queue              fastapi             past                tlz\n",
      "_random             fastapi_socketio    pathlib             token\n",
      "_sha1               fastjsonschema      pathspec            tokenize\n",
      "_sha256             faulthandler        patsy               toml\n",
      "_sha3               filecmp             pdb                 tomli\n",
      "_sha512             fileinput           perfmon             tomlkit\n",
      "_signal             filelock            pexpect             tomllib\n",
      "_sitebuiltins       filetype            pickle              toolz\n",
      "_socket             flake8              pickleshare         tornado\n",
      "_sqlite3            flask               pickletools         tqdm\n",
      "_sre                fnmatch             pip                 trace\n",
      "_ssl                fontTools           pipes               traceback\n",
      "_stat               fractions           pkce                tracemalloc\n",
      "_statistics         frozendict          pkg_resources       traitlets\n",
      "_string             frozenlist          pkginfo             truststore\n",
      "_strptime           fsspec              pkgutil             tty\n",
      "_struct             ftplib              platform            turtle\n",
      "_symtable           functools           platformdirs        turtledemo\n",
      "_system_path        future              plistlib            twisted\n",
      "_testbuffer         gc                  plotly              types\n",
      "_testcapi           genericpath         pluggy              typing\n",
      "_testconsole        gensim              ply                 typing_extensions\n",
      "_testimportmultiple getopt              poplib              typing_inspect\n",
      "_testinternalcapi   getpass             posixpath           tzdata\n",
      "_testmultiphase     gettext             pprint              uc_micro\n",
      "_thread             git                 profile             ujson\n",
      "_threading_local    gitdb               prometheus_client   unicodedata\n",
      "_tkinter            glob                prompt_toolkit      unicodedata2\n",
      "_tokenize           gmpy2               protego             unidecode\n",
      "_tracemalloc        graphlib            pstats              unittest\n",
      "_typing             greenlet            psutil              uptrace\n",
      "_uuid               grpc                pty                 urllib\n",
      "_warnings           gzip                ptyprocess          urllib3\n",
      "_weakref            h11                 pure_eval           uu\n",
      "_weakrefset         h5py                py                  uuid\n",
      "_win32sysloader     hashlib             py_compile          uvicorn\n",
      "_winapi             heapdict            pyarrow             venv\n",
      "_winxptheme         heapq               pyasn1              w3lib\n",
      "_xxsubinterpreters  hmac                pyasn1_modules      warnings\n",
      "_yaml               holoviews           pyclbr              watchdog\n",
      "_zoneinfo           html                pycodestyle         watchfiles\n",
      "abc                 http                pycosat             wave\n",
      "adodbapi            httpcore            pycparser           wcwidth\n",
      "afxres              httpx               pyct                weakref\n",
      "aifc                hvplot              pycurl              webbrowser\n",
      "aiobotocore         hyperlink           pydantic            webencodings\n",
      "aiohttp             idlelib             pydantic_core       websocket\n",
      "aioitertools        idna                pydeck              websockets\n",
      "aiosignal           imagecodecs         pydispatch          werkzeug\n",
      "alabaster           imageio             pydoc               whatthepatch\n",
      "altair              imagesize           pydoc_data          wheel\n",
      "anaconda_anon_usage imaplib             pydocstyle          widgetsnbextension\n",
      "anaconda_catalogs   imblearn            pyexpat             win2kras\n",
      "anaconda_cloud_auth imghdr              pyflakes            win32api\n",
      "anaconda_navigator  imp                 pygments            win32clipboard\n",
      "anaconda_project    importlib           pylab               win32com\n",
      "annotated_types     importlib_metadata  pylint              win32con\n",
      "antigravity         incremental         pylint_venv         win32console\n",
      "anyio               inflection          pyls_spyder         win32cred\n",
      "app                 iniconfig           pylsp               win32crypt\n",
      "appdirs             inspect             pylsp_black         win32cryptcon\n",
      "archspec            intake              pylsp_jsonrpc       win32ctypes\n",
      "argon2              intervaltree        pyodbc              win32event\n",
      "argparse            io                  pyparsing           win32evtlog\n",
      "array               ipaddress           pytest              win32evtlogutil\n",
      "arrow               ipykernel           python_graphql_client win32file\n",
      "ast                 ipykernel_launcher  pythoncom           win32gui\n",
      "astroid             ipython_genutils    pythonjsonlogger    win32gui_struct\n",
      "astropy             ipywidgets          pytoolconfig        win32help\n",
      "astropy_iers_data   isapi               pytz                win32inet\n",
      "asttokens           isort               pyviz_comms         win32inetcon\n",
      "async_lru           isympy              pywin               win32job\n",
      "asyncer             itemadapter         pywin32_bootstrap   win32lz\n",
      "asynchat            itemloaders         pywin32_testutil    win32net\n",
      "asyncio             itertools           pywintypes          win32netcon\n",
      "asyncore            itsdangerous        pywt                win32pdh\n",
      "atexit              jedi                qdarkstyle          win32pdhquery\n",
      "atomicwrites        jellyfish           qstylizer           win32pdhutil\n",
      "attr                jinja2              qtawesome           win32pipe\n",
      "attrs               jmespath            qtconsole           win32print\n",
      "audioop             joblib              qtpy                win32process\n",
      "automat             json                queue               win32profile\n",
      "autopep8            json5               queuelib            win32ras\n",
      "babel               jsonpatch           quopri              win32rcparser\n",
      "backoff             jsonpointer         random              win32security\n",
      "backports           jsonschema          rasutil             win32service\n",
      "base64              jsonschema_specifications re                  win32serviceutil\n",
      "bcrypt              jupyter             referencing         win32timezone\n",
      "bdb                 jupyter_client      regcheck            win32trace\n",
      "bidict              jupyter_console     regex               win32traceutil\n",
      "binaryornot         jupyter_core        regutil             win32transaction\n",
      "binascii            jupyter_events      repo_cli            win32ts\n",
      "binstar_client      jupyter_lsp         reprlib             win32ui\n",
      "bisect              jupyter_server      requests            win32uiole\n",
      "black               jupyter_server_terminals requests_file       win32verstamp\n",
      "blackd              jupyterlab          requests_toolbelt   win32wnet\n",
      "bleach              jupyterlab_plotly   rfc3339_validator   win_inet_pton\n",
      "blib2to3            jupyterlab_pygments rfc3986_validator   winerror\n",
      "blinker             jupyterlab_server   rich                winioctlcon\n",
      "bokeh               jupyterlab_widgets  rlcompleter         winnt\n",
      "boltons             jwt                 rope                winperf\n",
      "botocore            keyring             rpds                winpty\n",
      "bottleneck          keyword             rtree               winreg\n",
      "brotli              kiwisolver          ruamel_yaml         winsound\n",
      "bs4                 lazify              runpy               winxpgui\n",
      "builtins            lazy_loader         s3fs                winxptheme\n",
      "bz2                 lazy_object_proxy   sched               wrapt\n",
      "cProfile            lckr_jupyterlab_variableinspector scipy               wsgiref\n",
      "cachetools          lib2to3             scrapy              wsproto\n",
      "calendar            libarchive          seaborn             xarray\n",
      "certifi             libfuturize         secrets             xdrlib\n",
      "cffi                libmambapy          select              xlwings\n",
      "cgi                 libpasteurize       selectors           xlwingsjs\n",
      "cgitb               lief                semver              xml\n",
      "chainlit            linecache           send2trash          xmlrpc\n",
      "chardet             linkify_it          service_identity    xxlimited\n",
      "charset_normalizer  literalai           servicemanager      xxlimited_35\n",
      "chunk               llvmlite            setup               xxsubtype\n",
      "click               lmdb                setuptools          xyzservices\n",
      "cloudpickle         locale              shelve              yaml\n",
      "cmath               locket              shlex               yapf\n",
      "cmd                 logging             shutil              yapf_third_party\n",
      "code                lxml                signal              yapftests\n",
      "codecs              lz4                 simple_websocket    yarl\n",
      "codeop              lzma                sipbuild            zict\n",
      "collections         mailbox             site                zipapp\n",
      "colorama            mailcap             six                 zipfile\n",
      "colorcet            markdown            skimage             zipimport\n",
      "colorsys            markdown_it         sklearn             zipp\n",
      "comm                markupsafe          slugify             zlib\n",
      "commctrl            marshal             smart_open          zmq\n",
      "compileall          marshmallow         smmap               zoneinfo\n",
      "concurrent          math                smtpd               zope\n",
      "conda               matplotlib          smtplib             zstandard\n",
      "\n",
      "Enter any module name to get more help.  Or, type \"modules spam\" to search\n",
      "for modules whose name or summary contain the string \"spam\".\n",
      "\n"
     ]
    }
   ],
   "source": [
    "help(\"modules\")"
   ]
  },
  {
   "cell_type": "code",
   "execution_count": null,
   "id": "3a7f6b0a-2958-4fc8-8bf0-c8ceb0309ad4",
   "metadata": {},
   "outputs": [],
   "source": []
  }
 ],
 "metadata": {
  "kernelspec": {
   "display_name": "Python 3 (ipykernel)",
   "language": "python",
   "name": "python3"
  },
  "language_info": {
   "codemirror_mode": {
    "name": "ipython",
    "version": 3
   },
   "file_extension": ".py",
   "mimetype": "text/x-python",
   "name": "python",
   "nbconvert_exporter": "python",
   "pygments_lexer": "ipython3",
   "version": "3.11.9"
  }
 },
 "nbformat": 4,
 "nbformat_minor": 5
}
