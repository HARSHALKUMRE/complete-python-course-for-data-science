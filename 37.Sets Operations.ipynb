{
 "cells": [
  {
   "cell_type": "code",
   "execution_count": 1,
   "id": "d7a6564a-e328-4ed0-b154-bd5a860595d1",
   "metadata": {},
   "outputs": [],
   "source": [
    "s1 = {1,2,3,4,5}\n",
    "s2 = {4,5,6,7,8}"
   ]
  },
  {
   "cell_type": "markdown",
   "id": "3047ff39-0fe9-4f28-aff8-1b462ad4fcf5",
   "metadata": {},
   "source": [
    "### Union(|)"
   ]
  },
  {
   "cell_type": "code",
   "execution_count": 2,
   "id": "86ee96a2-7cc8-45aa-bf4c-4fd5c902859d",
   "metadata": {},
   "outputs": [
    {
     "data": {
      "text/plain": [
       "{1, 2, 3, 4, 5, 6, 7, 8}"
      ]
     },
     "execution_count": 2,
     "metadata": {},
     "output_type": "execute_result"
    }
   ],
   "source": [
    "s1 | s2"
   ]
  },
  {
   "cell_type": "markdown",
   "id": "a7f749a2-a370-4ef9-94a0-5b48b723a6d8",
   "metadata": {},
   "source": [
    "### Intersection(&)"
   ]
  },
  {
   "cell_type": "code",
   "execution_count": 3,
   "id": "940110b8-1d2c-4465-813b-0868cd828a07",
   "metadata": {},
   "outputs": [
    {
     "data": {
      "text/plain": [
       "{4, 5}"
      ]
     },
     "execution_count": 3,
     "metadata": {},
     "output_type": "execute_result"
    }
   ],
   "source": [
    "s1 & s2"
   ]
  },
  {
   "cell_type": "markdown",
   "id": "8212d47c-f25c-4704-bc06-458e382cc274",
   "metadata": {},
   "source": [
    "### Difference(-)"
   ]
  },
  {
   "cell_type": "code",
   "execution_count": 4,
   "id": "2ecb56bd-18af-4712-bed3-2f08dc945ce7",
   "metadata": {},
   "outputs": [
    {
     "data": {
      "text/plain": [
       "{1, 2, 3}"
      ]
     },
     "execution_count": 4,
     "metadata": {},
     "output_type": "execute_result"
    }
   ],
   "source": [
    "s1 - s2"
   ]
  },
  {
   "cell_type": "code",
   "execution_count": 5,
   "id": "1c0d10b0-0644-4781-a4f7-6c0868842769",
   "metadata": {},
   "outputs": [
    {
     "data": {
      "text/plain": [
       "{6, 7, 8}"
      ]
     },
     "execution_count": 5,
     "metadata": {},
     "output_type": "execute_result"
    }
   ],
   "source": [
    "s2 - s1"
   ]
  },
  {
   "cell_type": "markdown",
   "id": "8afb35e0-97de-4d93-9186-a12a76e35e9b",
   "metadata": {},
   "source": [
    "### Symmetric Difference(^)"
   ]
  },
  {
   "cell_type": "code",
   "execution_count": 6,
   "id": "106c9764-5c24-49d8-aa33-f6f69616b6e7",
   "metadata": {},
   "outputs": [
    {
     "data": {
      "text/plain": [
       "{1, 2, 3, 6, 7, 8}"
      ]
     },
     "execution_count": 6,
     "metadata": {},
     "output_type": "execute_result"
    }
   ],
   "source": [
    "s2 ^ s1"
   ]
  },
  {
   "cell_type": "markdown",
   "id": "070979da-2465-4d7f-a92e-b0edeb510e2c",
   "metadata": {},
   "source": [
    "### Membership"
   ]
  },
  {
   "cell_type": "code",
   "execution_count": 7,
   "id": "41c342a5-4b50-4b30-a945-e3729ce6b2da",
   "metadata": {},
   "outputs": [
    {
     "data": {
      "text/plain": [
       "False"
      ]
     },
     "execution_count": 7,
     "metadata": {},
     "output_type": "execute_result"
    }
   ],
   "source": [
    "s1 = {1,2,3,4,5}\n",
    "\n",
    "1 not in s1"
   ]
  },
  {
   "cell_type": "markdown",
   "id": "8a8b108a-5d98-4a1a-a00b-18fd870cd8e0",
   "metadata": {},
   "source": [
    "### Iteration"
   ]
  },
  {
   "cell_type": "code",
   "execution_count": 8,
   "id": "2a3acc4c-91a9-46ac-97e6-2bee6788f70f",
   "metadata": {},
   "outputs": [
    {
     "name": "stdout",
     "output_type": "stream",
     "text": [
      "1\n",
      "2\n",
      "3\n",
      "4\n",
      "5\n"
     ]
    }
   ],
   "source": [
    "for i in s1:\n",
    "    print(i)"
   ]
  },
  {
   "cell_type": "code",
   "execution_count": null,
   "id": "1780541e-f5b7-4169-a5cf-e1592a4d0886",
   "metadata": {},
   "outputs": [],
   "source": []
  }
 ],
 "metadata": {
  "kernelspec": {
   "display_name": "Python 3 (ipykernel)",
   "language": "python",
   "name": "python3"
  },
  "language_info": {
   "codemirror_mode": {
    "name": "ipython",
    "version": 3
   },
   "file_extension": ".py",
   "mimetype": "text/x-python",
   "name": "python",
   "nbconvert_exporter": "python",
   "pygments_lexer": "ipython3",
   "version": "3.11.9"
  }
 },
 "nbformat": 4,
 "nbformat_minor": 5
}
