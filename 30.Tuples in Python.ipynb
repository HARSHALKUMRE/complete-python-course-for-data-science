{
 "cells": [
  {
   "cell_type": "markdown",
   "id": "ce1cd6bb-e296-453c-8412-9fc6cb98441c",
   "metadata": {},
   "source": [
    "### Tuples\n",
    "A tuple in Python is similar to a list. The difference between the two is that we cannot change the elements of a tuple once it is assigned whereas we can change the elements of a list.\n",
    "\n",
    "In short, a tuple is an immutable list. A tuple can not be changed in any way once it is created.\n",
    "\n",
    "Characterstics\n",
    "\n",
    "- Ordered\n",
    "- Unchangeble\n",
    "- Allows duplicate\n",
    "\n",
    "Topic to be discussed\n",
    "- Creating a Tuple\n",
    "- Accessing items\n",
    "- Editing items\n",
    "- Adding items\n",
    "- Deleting items\n",
    "- Operations on Tuples\n",
    "- Tuple Functions\n"
   ]
  },
  {
   "cell_type": "markdown",
   "id": "0ef84c99-42e5-4afd-ada2-d2ce7121ecb1",
   "metadata": {},
   "source": [
    "### Creating Tuples"
   ]
  },
  {
   "cell_type": "code",
   "execution_count": 1,
   "id": "a42dc57a-041f-45bb-88b2-5839e9633c22",
   "metadata": {},
   "outputs": [],
   "source": [
    "l = []"
   ]
  },
  {
   "cell_type": "code",
   "execution_count": 2,
   "id": "5f8df843-058b-41f5-82a2-bc7918807769",
   "metadata": {},
   "outputs": [
    {
     "name": "stdout",
     "output_type": "stream",
     "text": [
      "()\n",
      "<class 'tuple'>\n"
     ]
    }
   ],
   "source": [
    "# empty tuple\n",
    "t1 = ()\n",
    "print(t1)\n",
    "print(type(t1))"
   ]
  },
  {
   "cell_type": "code",
   "execution_count": 3,
   "id": "f9ef358a-3b76-4fa7-9000-14fb1fa0c26c",
   "metadata": {},
   "outputs": [
    {
     "name": "stdout",
     "output_type": "stream",
     "text": [
      "('Harshal',)\n",
      "<class 'tuple'>\n"
     ]
    }
   ],
   "source": [
    "# create a tuple with a single item\n",
    "t2 = (\"Harshal\",)\n",
    "print(t2)\n",
    "print(type(t2))"
   ]
  },
  {
   "cell_type": "code",
   "execution_count": 4,
   "id": "87ba9111-7339-49ea-8dd2-547067fd5a51",
   "metadata": {},
   "outputs": [
    {
     "name": "stdout",
     "output_type": "stream",
     "text": [
      "(1, 2, 3, 4)\n",
      "(1, 2.5, True, [1, 2, 3])\n",
      "(1, 2, 3, (4, 5))\n",
      "('h', 'e', 'l', 'l', 'o')\n"
     ]
    }
   ],
   "source": [
    "# homo\n",
    "t3 = (1,2,3,4)\n",
    "print(t3)\n",
    "\n",
    "# hetro\n",
    "t4 = (1,2.5,True,[1,2,3])\n",
    "print(t4)\n",
    "\n",
    "# nested tuple\n",
    "t5 = (1,2,3,(4,5))\n",
    "print(t5)\n",
    "\n",
    "# using type conversion\n",
    "t6 = tuple('hello')\n",
    "print(t6)"
   ]
  },
  {
   "cell_type": "markdown",
   "id": "198f291c-389e-4e6f-bf4c-fc290bf1331a",
   "metadata": {},
   "source": [
    "### Accessing Items\n",
    "- Indexing\n",
    "- Slicing"
   ]
  },
  {
   "cell_type": "code",
   "execution_count": 5,
   "id": "dce1c763-d9bc-46c6-9673-95bfb58b3e9b",
   "metadata": {},
   "outputs": [],
   "source": [
    "t3 = (1,2,3,4)"
   ]
  },
  {
   "cell_type": "code",
   "execution_count": 6,
   "id": "940a910e-6918-4abd-95a0-4c760a01b3de",
   "metadata": {},
   "outputs": [
    {
     "data": {
      "text/plain": [
       "1"
      ]
     },
     "execution_count": 6,
     "metadata": {},
     "output_type": "execute_result"
    }
   ],
   "source": [
    "t3[0]"
   ]
  },
  {
   "cell_type": "code",
   "execution_count": 7,
   "id": "ee2606dd-2093-4ac3-bc7d-0da5fef3b6b5",
   "metadata": {},
   "outputs": [
    {
     "data": {
      "text/plain": [
       "3"
      ]
     },
     "execution_count": 7,
     "metadata": {},
     "output_type": "execute_result"
    }
   ],
   "source": [
    "t3[-2]"
   ]
  },
  {
   "cell_type": "code",
   "execution_count": 8,
   "id": "166b2def-6c6d-4361-a12c-52e23a9ab8ec",
   "metadata": {},
   "outputs": [
    {
     "data": {
      "text/plain": [
       "(1, 2, 3)"
      ]
     },
     "execution_count": 8,
     "metadata": {},
     "output_type": "execute_result"
    }
   ],
   "source": [
    "t3[0:3]"
   ]
  },
  {
   "cell_type": "code",
   "execution_count": 9,
   "id": "14831aaf-193c-4144-abf5-e904430fcf81",
   "metadata": {},
   "outputs": [
    {
     "data": {
      "text/plain": [
       "(1, 2, 3, 4)"
      ]
     },
     "execution_count": 9,
     "metadata": {},
     "output_type": "execute_result"
    }
   ],
   "source": [
    "t3"
   ]
  },
  {
   "cell_type": "code",
   "execution_count": 10,
   "id": "d46b47be-c221-4613-984e-c629b797f5b1",
   "metadata": {},
   "outputs": [
    {
     "data": {
      "text/plain": [
       "(1, 3)"
      ]
     },
     "execution_count": 10,
     "metadata": {},
     "output_type": "execute_result"
    }
   ],
   "source": [
    "t3[::2]"
   ]
  },
  {
   "cell_type": "markdown",
   "id": "5b3422e0-89ad-406d-9c3d-62cac38d5e9a",
   "metadata": {},
   "source": [
    "### Editing items / Deleting items"
   ]
  },
  {
   "cell_type": "code",
   "execution_count": 11,
   "id": "16a20b87-ae2e-49ec-8fef-929790e76555",
   "metadata": {},
   "outputs": [],
   "source": [
    "t3 = (1,2,3,4)"
   ]
  },
  {
   "cell_type": "code",
   "execution_count": 12,
   "id": "97d8bd0f-709e-474b-8750-99a54566da16",
   "metadata": {},
   "outputs": [
    {
     "ename": "IndexError",
     "evalue": "tuple index out of range",
     "output_type": "error",
     "traceback": [
      "\u001b[1;31m---------------------------------------------------------------------------\u001b[0m",
      "\u001b[1;31mIndexError\u001b[0m                                Traceback (most recent call last)",
      "Cell \u001b[1;32mIn[12], line 1\u001b[0m\n\u001b[1;32m----> 1\u001b[0m t3[\u001b[38;5;241m100\u001b[39m]\n",
      "\u001b[1;31mIndexError\u001b[0m: tuple index out of range"
     ]
    }
   ],
   "source": [
    "t3[100]"
   ]
  },
  {
   "cell_type": "code",
   "execution_count": 13,
   "id": "0075151a-ea67-416b-9f0b-0a55910d7532",
   "metadata": {},
   "outputs": [
    {
     "ename": "TypeError",
     "evalue": "'tuple' object doesn't support item deletion",
     "output_type": "error",
     "traceback": [
      "\u001b[1;31m---------------------------------------------------------------------------\u001b[0m",
      "\u001b[1;31mTypeError\u001b[0m                                 Traceback (most recent call last)",
      "Cell \u001b[1;32mIn[13], line 1\u001b[0m\n\u001b[1;32m----> 1\u001b[0m \u001b[38;5;28;01mdel\u001b[39;00m t3[\u001b[38;5;241m0\u001b[39m]\n",
      "\u001b[1;31mTypeError\u001b[0m: 'tuple' object doesn't support item deletion"
     ]
    }
   ],
   "source": [
    "del t3[0]"
   ]
  },
  {
   "cell_type": "markdown",
   "id": "63176f27-99a3-4ee2-937f-c41333d600f9",
   "metadata": {},
   "source": [
    "### Type casting"
   ]
  },
  {
   "cell_type": "code",
   "execution_count": 14,
   "id": "0f01598b-9468-43ab-aada-885073be451f",
   "metadata": {},
   "outputs": [
    {
     "name": "stdout",
     "output_type": "stream",
     "text": [
      "[1, 2, 3, 4]\n"
     ]
    }
   ],
   "source": [
    "t3 = (1,2,3,4)\n",
    "\n",
    "temp = list(t3)\n",
    "\n",
    "print(temp)"
   ]
  },
  {
   "cell_type": "code",
   "execution_count": 15,
   "id": "fc44e674-c1b2-4926-9632-4a1f8c4f1bfc",
   "metadata": {},
   "outputs": [],
   "source": [
    "temp.append(200)"
   ]
  },
  {
   "cell_type": "code",
   "execution_count": 16,
   "id": "547f4bf4-be76-467b-9629-86ce66c095a2",
   "metadata": {},
   "outputs": [
    {
     "data": {
      "text/plain": [
       "[1, 2, 3, 4, 200]"
      ]
     },
     "execution_count": 16,
     "metadata": {},
     "output_type": "execute_result"
    }
   ],
   "source": [
    "temp"
   ]
  },
  {
   "cell_type": "code",
   "execution_count": 17,
   "id": "3d1002c1-7f6c-4288-80d1-c8a1ba54193e",
   "metadata": {},
   "outputs": [],
   "source": [
    "t3 = tuple(temp)"
   ]
  },
  {
   "cell_type": "code",
   "execution_count": 18,
   "id": "63313241-bea1-465e-b510-7c22ec91a2c2",
   "metadata": {},
   "outputs": [
    {
     "data": {
      "text/plain": [
       "(1, 2, 3, 4, 200)"
      ]
     },
     "execution_count": 18,
     "metadata": {},
     "output_type": "execute_result"
    }
   ],
   "source": [
    "t3"
   ]
  },
  {
   "cell_type": "code",
   "execution_count": null,
   "id": "6fc13ec3-fec8-4f2c-8de6-f20dc32370f8",
   "metadata": {},
   "outputs": [],
   "source": []
  }
 ],
 "metadata": {
  "kernelspec": {
   "display_name": "Python 3 (ipykernel)",
   "language": "python",
   "name": "python3"
  },
  "language_info": {
   "codemirror_mode": {
    "name": "ipython",
    "version": 3
   },
   "file_extension": ".py",
   "mimetype": "text/x-python",
   "name": "python",
   "nbconvert_exporter": "python",
   "pygments_lexer": "ipython3",
   "version": "3.11.9"
  }
 },
 "nbformat": 4,
 "nbformat_minor": 5
}
