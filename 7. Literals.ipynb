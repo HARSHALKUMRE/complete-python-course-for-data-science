{
 "cells": [
  {
   "cell_type": "code",
   "execution_count": 1,
   "id": "8bb76385-419d-48a4-8102-6f93e040614e",
   "metadata": {},
   "outputs": [],
   "source": [
    "a = 3"
   ]
  },
  {
   "cell_type": "code",
   "execution_count": 2,
   "id": "947c93d3-69af-49e4-9d0a-bd7bb3b8a188",
   "metadata": {},
   "outputs": [
    {
     "name": "stdout",
     "output_type": "stream",
     "text": [
      "3\n"
     ]
    }
   ],
   "source": [
    "print(a)"
   ]
  },
  {
   "cell_type": "code",
   "execution_count": 3,
   "id": "3dc3b757-9303-40b5-a156-95d5045fa18c",
   "metadata": {},
   "outputs": [],
   "source": [
    "a = 0b1010 # binary literals\n",
    "b = 100 # decimal literals\n",
    "c = 0o310 # Octal literals\n",
    "d = 0x12c # hexadecimal literals"
   ]
  },
  {
   "cell_type": "code",
   "execution_count": 4,
   "id": "6926987d-3218-4ccd-9867-8e74197fa4ce",
   "metadata": {},
   "outputs": [
    {
     "name": "stdout",
     "output_type": "stream",
     "text": [
      "10\n"
     ]
    }
   ],
   "source": [
    "print(a)"
   ]
  },
  {
   "cell_type": "code",
   "execution_count": 5,
   "id": "abe131d2-3edd-430b-8e03-1e8909d64bd4",
   "metadata": {},
   "outputs": [
    {
     "name": "stdout",
     "output_type": "stream",
     "text": [
      "100\n"
     ]
    }
   ],
   "source": [
    "print(b)"
   ]
  },
  {
   "cell_type": "code",
   "execution_count": 6,
   "id": "8670cc10-8bef-4408-b497-149be5e44a1f",
   "metadata": {},
   "outputs": [
    {
     "name": "stdout",
     "output_type": "stream",
     "text": [
      "200\n"
     ]
    }
   ],
   "source": [
    "print(c)"
   ]
  },
  {
   "cell_type": "code",
   "execution_count": 7,
   "id": "847acdff-79f8-4745-b1d3-4b5e086f7988",
   "metadata": {},
   "outputs": [
    {
     "name": "stdout",
     "output_type": "stream",
     "text": [
      "300\n"
     ]
    }
   ],
   "source": [
    "print(d)"
   ]
  },
  {
   "cell_type": "code",
   "execution_count": 8,
   "id": "c6bfe5c4-5026-4e84-88d9-5642299ac177",
   "metadata": {},
   "outputs": [],
   "source": [
    "# Float Literals\n",
    "\n",
    "float_1 = 10.5\n",
    "float_2 = 1.5e2 # 1.5 * 10^2\n",
    "float_3 = 1.5e-3 # 1.5 * 10^-3"
   ]
  },
  {
   "cell_type": "code",
   "execution_count": 9,
   "id": "21d71c81-f29b-492f-995b-694d4e6818ca",
   "metadata": {},
   "outputs": [
    {
     "name": "stdout",
     "output_type": "stream",
     "text": [
      "10.5\n"
     ]
    }
   ],
   "source": [
    "print(float_1)"
   ]
  },
  {
   "cell_type": "code",
   "execution_count": 10,
   "id": "0920a575-0521-4d24-80ef-8e122ec610a7",
   "metadata": {},
   "outputs": [
    {
     "name": "stdout",
     "output_type": "stream",
     "text": [
      "150.0\n"
     ]
    }
   ],
   "source": [
    "print(float_2)"
   ]
  },
  {
   "cell_type": "code",
   "execution_count": 11,
   "id": "62cf03fb-c33e-42d2-8f16-2956571b8556",
   "metadata": {},
   "outputs": [
    {
     "name": "stdout",
     "output_type": "stream",
     "text": [
      "0.0015\n"
     ]
    }
   ],
   "source": [
    "print(float_3)"
   ]
  },
  {
   "cell_type": "code",
   "execution_count": 12,
   "id": "b3888577-032c-4c24-b4fa-b83b61cbef15",
   "metadata": {},
   "outputs": [],
   "source": [
    "# Complex Literals\n",
    "\n",
    "x = 3.14j"
   ]
  },
  {
   "cell_type": "code",
   "execution_count": 13,
   "id": "972ec198-bb8f-4b59-ba90-122ab3a2c98d",
   "metadata": {},
   "outputs": [
    {
     "data": {
      "text/plain": [
       "3.14j"
      ]
     },
     "execution_count": 13,
     "metadata": {},
     "output_type": "execute_result"
    }
   ],
   "source": [
    "x"
   ]
  },
  {
   "cell_type": "code",
   "execution_count": 14,
   "id": "dd093b6e-6066-42a9-9fae-4a1e4ac7dc5f",
   "metadata": {},
   "outputs": [
    {
     "data": {
      "text/plain": [
       "complex"
      ]
     },
     "execution_count": 14,
     "metadata": {},
     "output_type": "execute_result"
    }
   ],
   "source": [
    "type(x)"
   ]
  },
  {
   "cell_type": "code",
   "execution_count": 15,
   "id": "1f3d51f8-7b2a-42fe-b7f3-9c0b69ce28ff",
   "metadata": {},
   "outputs": [
    {
     "name": "stdout",
     "output_type": "stream",
     "text": [
      "0.0\n"
     ]
    }
   ],
   "source": [
    "print(x.real)"
   ]
  },
  {
   "cell_type": "code",
   "execution_count": 16,
   "id": "0db8ad93-3412-4d2e-bbc8-42cff938442c",
   "metadata": {},
   "outputs": [
    {
     "name": "stdout",
     "output_type": "stream",
     "text": [
      "3.14\n"
     ]
    }
   ],
   "source": [
    "print(x.imag)"
   ]
  },
  {
   "cell_type": "code",
   "execution_count": 17,
   "id": "54e43265-a6b9-4d7c-925b-a85e5cfa19a9",
   "metadata": {},
   "outputs": [],
   "source": [
    "info = \"\"\"\n",
    "My name is Harshal.\n",
    "I am a Data Scientist\n",
    "\"\"\""
   ]
  },
  {
   "cell_type": "code",
   "execution_count": 18,
   "id": "5d2c7230-0b8b-4350-85b0-6916d15c1d7b",
   "metadata": {},
   "outputs": [
    {
     "ename": "SyntaxError",
     "evalue": "unterminated string literal (detected at line 1) (374758825.py, line 1)",
     "output_type": "error",
     "traceback": [
      "\u001b[1;36m  Cell \u001b[1;32mIn[18], line 1\u001b[1;36m\u001b[0m\n\u001b[1;33m    info = \"\u001b[0m\n\u001b[1;37m           ^\u001b[0m\n\u001b[1;31mSyntaxError\u001b[0m\u001b[1;31m:\u001b[0m unterminated string literal (detected at line 1)\n"
     ]
    }
   ],
   "source": [
    "info = \"\n",
    "My name is Harshal.\n",
    "I am a Data Scientist\n",
    "\""
   ]
  },
  {
   "cell_type": "code",
   "execution_count": 19,
   "id": "1cf23502-1edf-487c-8860-59d81c246d86",
   "metadata": {},
   "outputs": [
    {
     "name": "stdout",
     "output_type": "stream",
     "text": [
      "This is Python\n",
      "This is Python\n",
      "C\n",
      "This is a multiline string with more than one line code.\n",
      "😀😆🤣\n",
      "raw \\n string\n"
     ]
    }
   ],
   "source": [
    "string = 'This is Python'\n",
    "strings = \"This is Python\"\n",
    "char = \"C\"\n",
    "multiline_str = \"\"\"This is a multiline string with more than one line code.\"\"\"\n",
    "unicode = u\"\\U0001f600\\U0001F606\\U0001F923\"\n",
    "raw_str = r\"raw \\n string\"\n",
    "\n",
    "print(string)\n",
    "print(strings)\n",
    "print(char)\n",
    "print(multiline_str)\n",
    "print(unicode)\n",
    "print(raw_str)"
   ]
  },
  {
   "cell_type": "code",
   "execution_count": 20,
   "id": "acf9b7da-084f-4a3d-a858-e0c6ebb22c91",
   "metadata": {},
   "outputs": [
    {
     "name": "stdout",
     "output_type": "stream",
     "text": [
      "a: 5\n",
      "b: 10\n"
     ]
    }
   ],
   "source": [
    "# True = 1\n",
    "# False = 0\n",
    "\n",
    "a = True + 4\n",
    "b = False + 10\n",
    "\n",
    "print(\"a:\", a)\n",
    "print(\"b:\", b)"
   ]
  },
  {
   "cell_type": "code",
   "execution_count": 21,
   "id": "f4eda579-fb9c-4712-9d3d-9cfb77836927",
   "metadata": {},
   "outputs": [],
   "source": [
    "# None \n",
    "\n",
    "a = None"
   ]
  },
  {
   "cell_type": "code",
   "execution_count": 22,
   "id": "0fbb1c5e-3ddb-45a4-b770-d1b3c2f4cfae",
   "metadata": {},
   "outputs": [
    {
     "name": "stdout",
     "output_type": "stream",
     "text": [
      "None\n"
     ]
    }
   ],
   "source": [
    "print(a)"
   ]
  },
  {
   "cell_type": "code",
   "execution_count": 23,
   "id": "9f818fd0-fd95-44c0-a238-74d31ab33a59",
   "metadata": {},
   "outputs": [
    {
     "name": "stdout",
     "output_type": "stream",
     "text": [
      "None 2 4\n"
     ]
    }
   ],
   "source": [
    "x = None\n",
    "y = 2\n",
    "z = 4\n",
    "\n",
    "print(x, y, z)"
   ]
  },
  {
   "cell_type": "code",
   "execution_count": null,
   "id": "d91b4390-82b3-4c4c-ab62-c8a0a61d899c",
   "metadata": {},
   "outputs": [],
   "source": []
  }
 ],
 "metadata": {
  "kernelspec": {
   "display_name": "Python 3 (ipykernel)",
   "language": "python",
   "name": "python3"
  },
  "language_info": {
   "codemirror_mode": {
    "name": "ipython",
    "version": 3
   },
   "file_extension": ".py",
   "mimetype": "text/x-python",
   "name": "python",
   "nbconvert_exporter": "python",
   "pygments_lexer": "ipython3",
   "version": "3.11.9"
  }
 },
 "nbformat": 4,
 "nbformat_minor": 5
}
