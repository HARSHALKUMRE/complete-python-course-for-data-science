{
 "cells": [
  {
   "cell_type": "markdown",
   "id": "1a4c733f-0172-4181-a192-f45baeed0d0d",
   "metadata": {},
   "source": [
    "1. Find the length of a given string without using the len() function\n",
    "\n",
    "2. Extract username from a given email.\n",
    "\n",
    "- Ex:\n",
    "if the email is harshal@gmail.com then the username should be harshal\n",
    "\n",
    "3. Write a program that can check whether a given string is palindrome or not.\n",
    "- abba\n",
    "- malayalam\n",
    "- mam"
   ]
  },
  {
   "cell_type": "code",
   "execution_count": 3,
   "id": "8317153f-273e-4c69-b871-e80f8b7afcd9",
   "metadata": {},
   "outputs": [
    {
     "name": "stdin",
     "output_type": "stream",
     "text": [
      "Enter the string:-  john\n"
     ]
    },
    {
     "name": "stdout",
     "output_type": "stream",
     "text": [
      "Your entered string is john. The length of the string is 4\n"
     ]
    }
   ],
   "source": [
    "s = input(\"Enter the string:- \")\n",
    "\n",
    "counter = 0 \n",
    "\n",
    "for i in s:\n",
    "    counter += 1\n",
    "    # print(i)\n",
    "\n",
    "print(f\"Your entered string is {s}. The length of the string is {counter}\")"
   ]
  },
  {
   "cell_type": "code",
   "execution_count": 5,
   "id": "4b12082c-19d8-4ed2-9d67-b2d873f50e35",
   "metadata": {},
   "outputs": [
    {
     "name": "stdin",
     "output_type": "stream",
     "text": [
      "Enter your email:-  harshal@gmail.com\n"
     ]
    },
    {
     "name": "stdout",
     "output_type": "stream",
     "text": [
      "harshal\n"
     ]
    }
   ],
   "source": [
    "email = input(\"Enter your email:- \")\n",
    "pos = email.index(\"@\")\n",
    "\n",
    "print(email[0:pos])"
   ]
  },
  {
   "cell_type": "code",
   "execution_count": 6,
   "id": "a9c4c163-4c7f-40e0-9363-8f82f0322ebf",
   "metadata": {},
   "outputs": [
    {
     "name": "stdin",
     "output_type": "stream",
     "text": [
      "Enter your word:-  abcba\n"
     ]
    },
    {
     "name": "stdout",
     "output_type": "stream",
     "text": [
      "Palindrome\n"
     ]
    }
   ],
   "source": [
    "word = input(\"Enter your word:- \")\n",
    "\n",
    "flag = True\n",
    "\n",
    "for i in range(0, len(word)//2):\n",
    "    if word[i] != word[len(word)-i - 1]:\n",
    "        flag = False\n",
    "        print(\"Not a palindrome\")\n",
    "        break\n",
    "if flag:\n",
    "    print(\"Palindrome\")"
   ]
  },
  {
   "cell_type": "code",
   "execution_count": 7,
   "id": "00232a6d-1a70-4086-b7ca-cb5a6718b684",
   "metadata": {},
   "outputs": [
    {
     "ename": "SyntaxError",
     "evalue": "invalid syntax (3753175595.py, line 3)",
     "output_type": "error",
     "traceback": [
      "\u001b[1;36m  Cell \u001b[1;32mIn[7], line 3\u001b[1;36m\u001b[0m\n\u001b[1;33m    ab ba\u001b[0m\n\u001b[1;37m       ^\u001b[0m\n\u001b[1;31mSyntaxError\u001b[0m\u001b[1;31m:\u001b[0m invalid syntax\n"
     ]
    }
   ],
   "source": [
    "abba = 4\n",
    "\n",
    "ab ba"
   ]
  },
  {
   "cell_type": "code",
   "execution_count": 8,
   "id": "2acae941-1438-4e17-9925-441b5e5eb355",
   "metadata": {},
   "outputs": [
    {
     "data": {
      "text/plain": [
       "4"
      ]
     },
     "execution_count": 8,
     "metadata": {},
     "output_type": "execute_result"
    }
   ],
   "source": [
    "9//2"
   ]
  },
  {
   "cell_type": "code",
   "execution_count": null,
   "id": "ce0a4d16-12b9-4590-9370-31470555ff3f",
   "metadata": {},
   "outputs": [],
   "source": []
  },
  {
   "cell_type": "code",
   "execution_count": null,
   "id": "b9905161-f2cf-4353-967b-0a5055ff5529",
   "metadata": {},
   "outputs": [],
   "source": []
  }
 ],
 "metadata": {
  "kernelspec": {
   "display_name": "Python 3 (ipykernel)",
   "language": "python",
   "name": "python3"
  },
  "language_info": {
   "codemirror_mode": {
    "name": "ipython",
    "version": 3
   },
   "file_extension": ".py",
   "mimetype": "text/x-python",
   "name": "python",
   "nbconvert_exporter": "python",
   "pygments_lexer": "ipython3",
   "version": "3.11.9"
  }
 },
 "nbformat": 4,
 "nbformat_minor": 5
}
