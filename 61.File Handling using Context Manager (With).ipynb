{
 "cells": [
  {
   "cell_type": "markdown",
   "id": "7ea18379-affe-4901-be8d-145bd4a27b0e",
   "metadata": {},
   "source": [
    "## File Handling using Context Manager (With)\n",
    "\n",
    "### Using Context Manager (With)\n",
    "- It's a good idea to close a file after usage as it will free up the resources\n",
    "- If we dont close it, garbage collector would close it\n",
    "- with keyword closes the file as soon as the usage is over"
   ]
  },
  {
   "cell_type": "code",
   "execution_count": 1,
   "id": "238de0c4-5453-43eb-88cd-624ed5632060",
   "metadata": {},
   "outputs": [],
   "source": [
    "with open('files/sample.txt', 'w') as f:\n",
    "    f.write(\"Hello there!\")"
   ]
  },
  {
   "cell_type": "code",
   "execution_count": 2,
   "id": "477010c5-9191-4f8e-8501-4a86957b2439",
   "metadata": {},
   "outputs": [
    {
     "ename": "ValueError",
     "evalue": "I/O operation on closed file.",
     "output_type": "error",
     "traceback": [
      "\u001b[1;31m---------------------------------------------------------------------------\u001b[0m",
      "\u001b[1;31mValueError\u001b[0m                                Traceback (most recent call last)",
      "Cell \u001b[1;32mIn[2], line 1\u001b[0m\n\u001b[1;32m----> 1\u001b[0m f\u001b[38;5;241m.\u001b[39mwrite(\u001b[38;5;124m\"\u001b[39m\u001b[38;5;124mHarshal\u001b[39m\u001b[38;5;124m\"\u001b[39m)\n",
      "\u001b[1;31mValueError\u001b[0m: I/O operation on closed file."
     ]
    }
   ],
   "source": [
    "f.write(\"Harshal\")"
   ]
  },
  {
   "cell_type": "code",
   "execution_count": 3,
   "id": "6891b9ea-ec32-47ed-951f-b30707f4b97c",
   "metadata": {},
   "outputs": [
    {
     "name": "stdout",
     "output_type": "stream",
     "text": [
      "Hello there!\n"
     ]
    }
   ],
   "source": [
    "# read()\n",
    "with open(\"files/sample.txt\", \"r\") as f:\n",
    "    s = f.read()\n",
    "    print(s)"
   ]
  },
  {
   "cell_type": "code",
   "execution_count": 4,
   "id": "1593c29a-76f9-44b4-8666-608d8b5da269",
   "metadata": {},
   "outputs": [
    {
     "name": "stdout",
     "output_type": "stream",
     "text": [
      "Hello there!\n"
     ]
    }
   ],
   "source": [
    "# readline()\n",
    "with open(\"files/sample.txt\", \"r\") as f:\n",
    "    s = f.readline()\n",
    "    print(s)"
   ]
  },
  {
   "cell_type": "code",
   "execution_count": 5,
   "id": "1db45359-9d27-445f-87a4-129425ac9a84",
   "metadata": {},
   "outputs": [],
   "source": [
    "# append mode\n",
    "with open(\"files/sample.txt\", \"a\") as f:\n",
    "    s = f.write(\"\\nMy name is Harshal\")"
   ]
  },
  {
   "cell_type": "code",
   "execution_count": 6,
   "id": "e0aeeedf-166c-4824-9408-278c7216d9e6",
   "metadata": {},
   "outputs": [
    {
     "name": "stdout",
     "output_type": "stream",
     "text": [
      "Hello ther\n",
      "e!\n",
      "My name\n",
      " is Harsha\n"
     ]
    }
   ],
   "source": [
    "# moving within a file\n",
    "with open(\"files/sample.txt\", \"r\") as f:\n",
    "    print(f.read(10))\n",
    "    print(f.read(10))\n",
    "    print(f.read(10))"
   ]
  },
  {
   "cell_type": "code",
   "execution_count": 7,
   "id": "9ecf00dc-9aed-4956-8572-c8d2a8c10b4f",
   "metadata": {},
   "outputs": [],
   "source": [
    "# benefit? -> to load a big file in memory\n",
    "big_L = ['hello world ' for i in range(1000)]\n",
    "\n",
    "with open('files/big.txt','w') as f:\n",
    "  f.writelines(big_L)"
   ]
  },
  {
   "cell_type": "code",
   "execution_count": 8,
   "id": "fb3dbfa1-b574-471c-a6ea-524d028fad7e",
   "metadata": {},
   "outputs": [
    {
     "name": "stdout",
     "output_type": "stream",
     "text": [
      "d hello woo world hed hello woo world hed hello woo world hed hello woo world hed hello woo world hed hello woo world hed hello woo world hed hello woo world hed hello woo world hed hello woo world hed hello woo world hed hello woo world hed hello woo world hed hello woo world hed hello woo world hed hello woo world hed hello woo world hed hello woo world hed hello woo world hed hello woo world hed hello woo world hed hello woo world hed hello woo world hed hello woo world hed hello woo world hed hello woo world hed hello woo world hed hello woo world hed hello woo world hed hello woo world hed hello woo world hed hello woo world hed hello woo world hed hello woo world hed hello woo world hed hello woo world hed hello woo world hed hello woo world hed hello woo world hed hello woo world hed hello woo world hed hello woo world hed hello woo world hed hello woo world hed hello woo world hed hello woo world hed hello woo world hed hello woo world hed hello woo world hed hello woo world hed hello woo world hed hello woo world hed hello woo world hed hello woo world hed hello woo world hed hello woo world hed hello woo world hed hello woo world hed hello woo world hed hello woo world hed hello woo world hed hello woo world hed hello woo world hed hello woo world hed hello woo world hed hello woo world hed hello woo world hed hello woo world hed hello woo world hed hello woo world hed hello woo world hed hello woo world hed hello woo world hed hello woo world hed hello woo world hed hello woo world hed hello woo world hed hello woo world hed hello woo world hed hello woo world hed hello woo world hed hello woo world hed hello woo world hed hello woo world hed hello woo world hed hello woo world hed hello woo world hed hello woo world hed hello woo world hed hello woo world hed hello woo world hed hello woo world hed hello woo world hed hello woo world hed hello woo world hed hello woo world hed hello woo world hed hello woo world hed hello woo world hed hello woo world hed hello woo world hed hello woo world hed hello woo world hed hello woo world hed hello woo world hed hello woo world hed hello woo world hed hello woo world hed hello woo world hed hello woo world hed hello woo world hed hello woo world hed hello woo world hed hello woo world hed hello woo world hed hello woo world hed hello woo world hed hello woo world hed hello woo world hed hello woo world hed hello woo world hed hello woo world hed hello woo world hed hello woo world hed hello woo world hed hello woo world hed hello woo world hed hello woo world hed hello woo world hed hello woo world hed hello woo world hed hello woo world hed hello woo world hed hello woo world hed hello woo world hed hello woo world hed hello woo world hed hello woo world hed hello woo world hed hello woo world hed hello woo world hed hello woo world hed hello woo world hed hello woo world hed hello woo world hed hello woo world hed hello woo world hed hello woo world hed hello woo world hed hello woo world hed hello woo world hed hello woo world hed hello woo world hed hello woo world hed hello woo world hed hello woo world hed hello woo world hed hello woo world hed hello woo world hed hello woo world hed hello woo world hed hello woo world hed hello woo world hed hello woo world hed hello woo world hed hello woo world hed hello woo world hed hello woo world hed hello woo world hed hello woo world hed hello woo world hed hello woo world hed hello woo world hed hello woo world hed hello woo world hed hello woo world hed hello woo world hed hello woo world hed hello woo world hed hello woo world hed hello woo world hed hello woo world hed hello woo world hed hello woo world hed hello woo world hed hello woo world hed hello woo world hed hello woo world hed hello woo world hed hello woo world hed hello woo world hed hello woo world hed hello woo world hed hello woo world hed hello woo world hed hello woo world hed hello woo world hed hello woo world hed hello woo world hed hello woo world he"
     ]
    }
   ],
   "source": [
    "with open(\"files/big.txt\",'r') as f:\n",
    "    chunk_size = 10\n",
    "\n",
    "    while len(f.read(chunk_size)) > 0:\n",
    "        print(f.read(chunk_size),end=\"\")\n",
    "        f.read(chunk_size)"
   ]
  },
  {
   "cell_type": "code",
   "execution_count": 9,
   "id": "4648d7ac-99f3-4fec-adfd-bee5037dea36",
   "metadata": {},
   "outputs": [
    {
     "name": "stdout",
     "output_type": "stream",
     "text": [
      "hello world hello world hello world hello world hello world hello world hello world hello world hello world hello world hello world hello world hello world hello world hello world hello world hello world hello world hello world hello world hello world hello world hello world hello world hello world hello world hello world hello world hello world hello world hello world hello world hello world hello world hello world hello world hello world hello world hello world hello world hello world hello world hello world hello world hello world hello world hello world hello world hello world hello world hello world hello world hello world hello world hello world hello world hello world hello world hello world hello world hello world hello world hello world hello world hello world hello world hello world hello world hello world hello world hello world hello world hello world hello world hello world hello world hello world hello world hello world hello world hello world hello world hello world hello world hello world hello world hello world hello world hello world hello world hello world hello world hello world hello world hello world hello world hello world hello world hello world hello world hello world hello world hello world hello world hello world hello world hello world hello world hello world hello world hello world hello world hello world hello world hello world hello world hello world hello world hello world hello world hello world hello world hello world hello world hello world hello world hello world hello world hello world hello world hello world hello world hello world hello world hello world hello world hello world hello world hello world hello world hello world hello world hello world hello world hello world hello world hello world hello world hello world hello world hello world hello world hello world hello world hello world hello world hello world hello world hello world hello world hello world hello world hello world hello world hello world hello world hello world hello world hello world hello world hello world hello world hello world hello world hello world hello world hello world hello world hello world hello world hello world hello world hello world hello world hello world hello world hello world hello world hello world hello world hello world hello world hello world hello world hello world hello world hello world hello world hello world hello world hello world hello world hello world hello world hello world hello world hello world hello world hello world hello world hello world hello world hello world hello world hello world hello world hello world hello world hello world hello world hello world hello world hello world hello world hello world hello world hello world hello world hello world hello world hello world hello world hello world hello world hello world hello world hello world hello world hello world hello world hello world hello world hello world hello world hello world hello world hello world hello world hello world hello world hello world hello world hello world hello world hello world hello world hello world hello world hello world hello world hello world hello world hello world hello world hello world hello world hello world hello world hello world hello world hello world hello world hello world hello world hello world hello world hello world hello world hello world hello world hello world hello world hello world hello world hello world hello world hello world hello world hello world hello world hello world hello world hello world hello world hello world hello world hello world hello world hello world hello world hello world hello world hello world hello world hello world hello world hello world hello world hello world hello world hello world hello world hello world hello world hello world hello world hello world hello world hello world hello world hello world hello world hello world hello world hello world hello world hello world hello world hello world hello world hello world hello world hello world hello world hello world hello world hello world hello world hello world hello world hello world hello world hello world hello world hello world hello world hello world hello world hello world hello world hello world hello world hello world hello world hello world hello world hello world hello world hello world hello world hello world hello world hello world hello world hello world hello world hello world hello world hello world hello world hello world hello world hello world hello world hello world hello world hello world hello world hello world hello world hello world hello world hello world hello world hello world hello world hello world hello world hello world hello world hello world hello world hello world hello world hello world hello world hello world hello world hello world hello world hello world hello world hello world hello world hello world hello world hello world hello world hello world hello world hello world hello world hello world hello world hello world hello world hello world hello world hello world hello world hello world hello world hello world hello world hello world hello world hello world hello world hello world hello world hello world hello world hello world hello world hello world hello world hello world hello world hello world hello world hello world hello world hello world hello world hello world hello world hello world hello world hello world hello world hello world hello world hello world hello world hello world hello world hello world hello world hello world hello world hello world hello world hello world hello world hello world hello world hello world hello world hello world hello world hello world hello world hello world hello world hello world hello world hello world hello world hello world hello world hello world hello world hello world hello world hello world hello world hello world hello world hello world hello world hello world hello world hello world hello world hello world hello world hello world hello world hello world hello world hello world hello world hello world hello world hello world hello world hello world hello world hello world hello world hello world hello world hello world hello world hello world hello world hello world hello world hello world hello world hello world hello world hello world hello world hello world hello world hello world hello world hello world hello world hello world hello world hello world hello world hello world hello world hello world hello world hello world hello world hello world hello world hello world hello world hello world hello world hello world hello world hello world hello world hello world hello world hello world hello world hello world hello world hello world hello world hello world hello world hello world hello world hello world hello world hello world hello world hello world hello world hello world hello world hello world hello world hello world hello world hello world hello world hello world hello world hello world hello world hello world hello world hello world hello world hello world hello world hello world hello world hello world hello world hello world hello world hello world hello world hello world hello world hello world hello world hello world hello world hello world hello world hello world hello world hello world hello world hello world hello world hello world hello world hello world hello world hello world hello world hello world hello world hello world hello world hello world hello world hello world hello world hello world hello world hello world hello world hello world hello world hello world hello world hello world hello world hello world hello world hello world hello world hello world hello world hello world hello world hello world hello world hello world hello world hello world hello world hello world hello world hello world hello world hello world hello world hello world hello world hello world hello world hello world hello world hello world hello world hello world hello world hello world hello world hello world hello world hello world hello world hello world hello world hello world hello world hello world hello world hello world hello world hello world hello world hello world hello world hello world hello world hello world hello world hello world hello world hello world hello world hello world hello world hello world hello world hello world hello world hello world hello world hello world hello world hello world hello world hello world hello world hello world hello world hello world hello world hello world hello world hello world hello world hello world hello world hello world hello world hello world hello world hello world hello world hello world hello world hello world hello world hello world hello world hello world hello world hello world hello world hello world hello world hello world hello world hello world hello world hello world hello world hello world hello world hello world hello world hello world hello world hello world hello world hello world hello world hello world hello world hello world hello world hello world hello world hello world hello world hello world hello world hello world hello world hello world hello world hello world hello world hello world hello world hello world hello world hello world hello world hello world hello world hello world hello world hello world hello world hello world hello world hello world hello world hello world hello world hello world hello world hello world hello world hello world hello world hello world hello world hello world hello world hello world hello world hello world hello world hello world hello world hello world hello world hello world hello world hello world hello world hello world hello world hello world hello world hello world hello world hello world hello world hello world hello world hello world hello world hello world hello world hello world hello world hello world hello world hello world hello world hello world hello world hello world hello world hello world hello world hello world hello world hello world hello world hello world hello world hello world hello world hello world hello world hello world hello world hello world hello world hello world hello world hello world hello world hello world hello world hello world hello world hello world hello world hello world hello world hello world hello world hello world hello world hello world hello world hello world hello world hello world hello world hello world hello world hello world hello world hello world hello world hello world hello world hello world hello world hello world hello world hello world hello world hello world hello world hello world hello world hello world hello world hello world hello world hello world hello world hello world hello world hello world hello world hello world hello world hello world hello world hello world hello world hello world hello world hello world hello world hello world hello world hello world hello world hello world hello world hello world hello world hello world hello world hello world hello world hello world hello world hello world hello world hello world hello world hello world hello world hello world hello world hello world hello world hello world hello world hello world hello world hello world hello world hello world hello world hello world hello world hello world hello world hello world hello world hello world hello world hello world hello world hello world hello world hello world hello world hello world hello world hello world hello world hello world hello world hello world hello world hello world hello world hello world hello world hello world hello world hello world hello world hello world hello world hello world hello world hello world hello world hello world hello world hello world hello world hello world hello world hello world hello world hello world hello world hello world hello world hello world hello world hello world hello world hello world hello world hello world hello world hello world hello world hello world hello world hello world hello world hello world hello world hello world hello world \n"
     ]
    }
   ],
   "source": [
    "# read()\n",
    "with open(\"files/big.txt\", \"r\") as f:\n",
    "    s = f.read()\n",
    "    print(s)"
   ]
  },
  {
   "cell_type": "code",
   "execution_count": 10,
   "id": "7f69b6c0-a9ab-47dd-bf5d-bfba78a21fd3",
   "metadata": {},
   "outputs": [
    {
     "name": "stdout",
     "output_type": "stream",
     "text": [
      "Hello ther\n",
      "e!\n",
      "My name\n",
      "21\n"
     ]
    }
   ],
   "source": [
    "# seek and tell function\n",
    "\n",
    "with open(\"files/sample.txt\", \"r\") as f:\n",
    "    print(f.read(10))\n",
    "    print(f.read(10))\n",
    "    print(f.tell())"
   ]
  },
  {
   "cell_type": "code",
   "execution_count": 11,
   "id": "f2ca10f0-e0cd-419d-a448-bfb945f96360",
   "metadata": {},
   "outputs": [
    {
     "name": "stdout",
     "output_type": "stream",
     "text": [
      "Hello ther\n",
      "0\n"
     ]
    }
   ],
   "source": [
    "with open(\"files/sample.txt\", \"r\") as f:\n",
    "    \n",
    "    print(f.read(10))\n",
    "    f.seek(0)\n",
    "    print(f.tell())"
   ]
  },
  {
   "cell_type": "code",
   "execution_count": 12,
   "id": "7f6710f9-6cb0-4b31-9ee4-045aa071ba97",
   "metadata": {},
   "outputs": [
    {
     "ename": "ValueError",
     "evalue": "I/O operation on closed file.",
     "output_type": "error",
     "traceback": [
      "\u001b[1;31m---------------------------------------------------------------------------\u001b[0m",
      "\u001b[1;31mValueError\u001b[0m                                Traceback (most recent call last)",
      "Cell \u001b[1;32mIn[12], line 1\u001b[0m\n\u001b[1;32m----> 1\u001b[0m f\u001b[38;5;241m.\u001b[39mwrite(\u001b[38;5;124m\"\u001b[39m\u001b[38;5;124mHello\u001b[39m\u001b[38;5;124m\"\u001b[39m)\n\u001b[0;32m      2\u001b[0m f\u001b[38;5;241m.\u001b[39mseek(\u001b[38;5;241m0\u001b[39m)\n\u001b[0;32m      3\u001b[0m f\u001b[38;5;241m.\u001b[39mwrite(\u001b[38;5;124m\"\u001b[39m\u001b[38;5;124mDa\u001b[39m\u001b[38;5;124m\"\u001b[39m)\n",
      "\u001b[1;31mValueError\u001b[0m: I/O operation on closed file."
     ]
    }
   ],
   "source": [
    "    f.write(\"Hello\")\n",
    "    f.seek(0)\n",
    "    f.write(\"Da\")\n",
    "    print(f.tell())"
   ]
  },
  {
   "cell_type": "code",
   "execution_count": null,
   "id": "ccb859ce-3faf-4a4a-ab49-79d9ec3be39b",
   "metadata": {},
   "outputs": [],
   "source": []
  }
 ],
 "metadata": {
  "kernelspec": {
   "display_name": "Python 3 (ipykernel)",
   "language": "python",
   "name": "python3"
  },
  "language_info": {
   "codemirror_mode": {
    "name": "ipython",
    "version": 3
   },
   "file_extension": ".py",
   "mimetype": "text/x-python",
   "name": "python",
   "nbconvert_exporter": "python",
   "pygments_lexer": "ipython3",
   "version": "3.11.9"
  }
 },
 "nbformat": 4,
 "nbformat_minor": 5
}
