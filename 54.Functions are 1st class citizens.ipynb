{
 "cells": [
  {
   "cell_type": "markdown",
   "id": "ad433810-f0df-4804-828d-1419e4f6fc09",
   "metadata": {},
   "source": [
    "## Functions are 1st class citizens\n",
    "It acts like data types\n",
    "\n",
    "https://en.wikipedia.org/wiki/First-class_citizen"
   ]
  },
  {
   "cell_type": "code",
   "execution_count": 6,
   "id": "b3aac90b-45e2-4947-9147-e4fd15206438",
   "metadata": {},
   "outputs": [
    {
     "name": "stdout",
     "output_type": "stream",
     "text": [
      "<class 'function'>\n",
      "2867282500864\n"
     ]
    }
   ],
   "source": [
    "# type and id\n",
    "\n",
    "def square(num):\n",
    "    return num**2\n",
    "\n",
    "print(type(square))\n",
    "print(id(square))"
   ]
  },
  {
   "cell_type": "code",
   "execution_count": 7,
   "id": "4c4d6dae-b9aa-49e9-8c49-48f6d28fc105",
   "metadata": {},
   "outputs": [
    {
     "data": {
      "text/plain": [
       "16"
      ]
     },
     "execution_count": 7,
     "metadata": {},
     "output_type": "execute_result"
    }
   ],
   "source": [
    "# reassign\n",
    "\n",
    "x = square\n",
    "id(x)\n",
    "x(4)"
   ]
  },
  {
   "cell_type": "code",
   "execution_count": 3,
   "id": "9d485519-bd08-4c02-af06-ebf843313bec",
   "metadata": {},
   "outputs": [
    {
     "ename": "NameError",
     "evalue": "name 'square' is not defined",
     "output_type": "error",
     "traceback": [
      "\u001b[1;31m---------------------------------------------------------------------------\u001b[0m",
      "\u001b[1;31mNameError\u001b[0m                                 Traceback (most recent call last)",
      "Cell \u001b[1;32mIn[3], line 4\u001b[0m\n\u001b[0;32m      1\u001b[0m \u001b[38;5;66;03m# deleting a function\u001b[39;00m\n\u001b[0;32m      3\u001b[0m \u001b[38;5;28;01mdel\u001b[39;00m square\n\u001b[1;32m----> 4\u001b[0m \u001b[38;5;28mprint\u001b[39m(square)\n",
      "\u001b[1;31mNameError\u001b[0m: name 'square' is not defined"
     ]
    }
   ],
   "source": [
    "# deleting a function\n",
    "\n",
    "del square\n",
    "print(square)"
   ]
  },
  {
   "cell_type": "code",
   "execution_count": 8,
   "id": "182d63ce-354a-4527-b83c-687319404ca0",
   "metadata": {},
   "outputs": [
    {
     "data": {
      "text/plain": [
       "16"
      ]
     },
     "execution_count": 8,
     "metadata": {},
     "output_type": "execute_result"
    }
   ],
   "source": [
    "# storing\n",
    "L = [1,2,3,4,5,square]\n",
    "L[-1](4)"
   ]
  },
  {
   "cell_type": "code",
   "execution_count": 9,
   "id": "201a1679-cb21-4ae3-97dd-dafe8e4c1309",
   "metadata": {},
   "outputs": [
    {
     "data": {
      "text/plain": [
       "{<function __main__.square(num)>}"
      ]
     },
     "execution_count": 9,
     "metadata": {},
     "output_type": "execute_result"
    }
   ],
   "source": [
    "s = {square}\n",
    "s"
   ]
  },
  {
   "cell_type": "code",
   "execution_count": 10,
   "id": "dfeabf44-9327-4d43-a6e6-d0c3398fbf26",
   "metadata": {},
   "outputs": [
    {
     "name": "stdout",
     "output_type": "stream",
     "text": [
      "5\n"
     ]
    }
   ],
   "source": [
    "# returning a function\n",
    "\n",
    "def f():\n",
    "    def g(a,b):\n",
    "        return a+b\n",
    "    return g\n",
    "\n",
    "val = f()(2,3)\n",
    "print(val)"
   ]
  },
  {
   "cell_type": "code",
   "execution_count": 11,
   "id": "5148ff74-3d17-459f-aa03-58607eb14f40",
   "metadata": {},
   "outputs": [
    {
     "name": "stdout",
     "output_type": "stream",
     "text": [
      "inside func_c\n",
      "inside func_a\n",
      "None\n"
     ]
    }
   ],
   "source": [
    "# function as argument\n",
    "\n",
    "def func_a():\n",
    "    print('inside func_a')\n",
    "\n",
    "def func_b(z):\n",
    "    print('inside func_c')\n",
    "    return z()\n",
    "\n",
    "print(func_b(func_a))"
   ]
  },
  {
   "cell_type": "code",
   "execution_count": null,
   "id": "b2390f6c-a1b3-4e53-a644-8e0e32342a7e",
   "metadata": {},
   "outputs": [],
   "source": []
  }
 ],
 "metadata": {
  "kernelspec": {
   "display_name": "Python 3 (ipykernel)",
   "language": "python",
   "name": "python3"
  },
  "language_info": {
   "codemirror_mode": {
    "name": "ipython",
    "version": 3
   },
   "file_extension": ".py",
   "mimetype": "text/x-python",
   "name": "python",
   "nbconvert_exporter": "python",
   "pygments_lexer": "ipython3",
   "version": "3.11.9"
  }
 },
 "nbformat": 4,
 "nbformat_minor": 5
}
