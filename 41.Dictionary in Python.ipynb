{
 "cells": [
  {
   "cell_type": "markdown",
   "id": "1596f040-67a8-48fd-ac4d-151019d53152",
   "metadata": {},
   "source": [
    "### Dictionary\n",
    "Dictionary in Python is a collection of keys values, used to store data values like a map, which, unlike other data types which hold only a single value as an element.\n",
    "\n",
    "In some languages it is known as map or assosiative arrays.\n",
    "\n",
    "dict = { 'name' : 'Harshal' , 'age' : 25 , 'gender' : 'male' }\n",
    "\n",
    "Characterstics:\n",
    "- Mutable\n",
    "- Indexing has no meaning\n",
    "- keys can't be duplicated\n",
    "- keys can't be mutable items"
   ]
  },
  {
   "cell_type": "markdown",
   "id": "c62f7fd6-948f-4101-a95c-a6757595990b",
   "metadata": {},
   "source": [
    "### Creating Dictionary"
   ]
  },
  {
   "cell_type": "code",
   "execution_count": 2,
   "id": "e3928307-92ee-40a5-9a34-481e578ea646",
   "metadata": {},
   "outputs": [
    {
     "name": "stdout",
     "output_type": "stream",
     "text": [
      "{}\n",
      "<class 'dict'>\n"
     ]
    }
   ],
   "source": [
    "# empty dictionary\n",
    "d = {}\n",
    "print(d)\n",
    "print(type(d))"
   ]
  },
  {
   "cell_type": "code",
   "execution_count": 3,
   "id": "1b0c17bd-0452-438e-8f75-53bf2859be56",
   "metadata": {},
   "outputs": [
    {
     "name": "stdout",
     "output_type": "stream",
     "text": [
      "{'name': 'Harshal', 'age': 25, 'Gender': 'male'}\n"
     ]
    }
   ],
   "source": [
    "# 1D dictionary\n",
    "d1 = {\"name\": \"Harshal\", \"age\":25, \"Gender\":\"male\"}\n",
    "print(d1)"
   ]
  },
  {
   "cell_type": "code",
   "execution_count": 4,
   "id": "05d768ef-970f-4e24-95e4-e1cb4e3b4241",
   "metadata": {},
   "outputs": [
    {
     "name": "stdout",
     "output_type": "stream",
     "text": [
      "{(1, 2, 3): 33, 'name': 'Harshal'}\n"
     ]
    }
   ],
   "source": [
    "# with mixed keys\n",
    "d2 = {(1,2,3):33, \"name\": \"Harshal\"}\n",
    "print(d2)"
   ]
  },
  {
   "cell_type": "code",
   "execution_count": 5,
   "id": "53f98f0b-e162-4e29-b77a-5d4f1d784bef",
   "metadata": {},
   "outputs": [
    {
     "name": "stdout",
     "output_type": "stream",
     "text": [
      "{'name': 'Harshal', 'college_name': 'ABC', 'semester': 5, 'subjects': {'DSA': 80, 'Math': 50, 'English': 70}}\n"
     ]
    }
   ],
   "source": [
    "# 2D dictionary\n",
    "d3 = {\n",
    "    \"name\": \"Harshal\",\n",
    "    \"college_name\": \"ABC\",\n",
    "    \"semester\": 5,\n",
    "    \"subjects\": {\"DSA\":80, \"Math\":50, \"English\": 70}\n",
    "\n",
    "}\n",
    "\n",
    "print(d3)"
   ]
  },
  {
   "cell_type": "code",
   "execution_count": 7,
   "id": "ae6f6cba-cef0-4898-9248-6634394b2e36",
   "metadata": {},
   "outputs": [
    {
     "name": "stdout",
     "output_type": "stream",
     "text": [
      "{'name': 'Harshal', 'age': 25}\n"
     ]
    }
   ],
   "source": [
    "# using sequence and dict function\n",
    "d4 = dict([(\"name\", \"Harshal\"), (\"age\", 25)])\n",
    "print(d4)"
   ]
  },
  {
   "cell_type": "code",
   "execution_count": 8,
   "id": "78b43766-f3d4-4dd6-bec3-dda427e36858",
   "metadata": {},
   "outputs": [
    {
     "ename": "TypeError",
     "evalue": "unhashable type: 'list'",
     "output_type": "error",
     "traceback": [
      "\u001b[1;31m---------------------------------------------------------------------------\u001b[0m",
      "\u001b[1;31mTypeError\u001b[0m                                 Traceback (most recent call last)",
      "Cell \u001b[1;32mIn[8], line 2\u001b[0m\n\u001b[0;32m      1\u001b[0m \u001b[38;5;66;03m# mutable items as keys\u001b[39;00m\n\u001b[1;32m----> 2\u001b[0m d6 \u001b[38;5;241m=\u001b[39m {[\u001b[38;5;241m1\u001b[39m,\u001b[38;5;241m2\u001b[39m,\u001b[38;5;241m3\u001b[39m]:\u001b[38;5;241m33\u001b[39m, \u001b[38;5;124m\"\u001b[39m\u001b[38;5;124mname\u001b[39m\u001b[38;5;124m\"\u001b[39m: \u001b[38;5;124m\"\u001b[39m\u001b[38;5;124mHarshal\u001b[39m\u001b[38;5;124m\"\u001b[39m}\n\u001b[0;32m      3\u001b[0m \u001b[38;5;28mprint\u001b[39m(d6)\n",
      "\u001b[1;31mTypeError\u001b[0m: unhashable type: 'list'"
     ]
    }
   ],
   "source": [
    "# mutable items as keys\n",
    "d6 = {[1,2,3]:33, \"name\": \"Harshal\"}\n",
    "print(d6)"
   ]
  },
  {
   "cell_type": "markdown",
   "id": "451544bd-6cba-427c-abee-7d00fac01b62",
   "metadata": {},
   "source": [
    "### Accessing items"
   ]
  },
  {
   "cell_type": "code",
   "execution_count": 9,
   "id": "1ac4a1a6-6bc5-4da0-a2b3-5af5eabfeff0",
   "metadata": {},
   "outputs": [],
   "source": [
    "d1 = {\"name\": \"Harshal\", \"age\":25, \"Gender\":\"male\"}"
   ]
  },
  {
   "cell_type": "code",
   "execution_count": 10,
   "id": "9413a2ab-94be-4652-802e-cbe99a5a2bcb",
   "metadata": {},
   "outputs": [
    {
     "data": {
      "text/plain": [
       "{'name': 'Harshal', 'age': 25, 'Gender': 'male'}"
      ]
     },
     "execution_count": 10,
     "metadata": {},
     "output_type": "execute_result"
    }
   ],
   "source": [
    "d1"
   ]
  },
  {
   "cell_type": "code",
   "execution_count": 11,
   "id": "1a180876-eebd-4e28-8184-608a7752aa62",
   "metadata": {},
   "outputs": [
    {
     "data": {
      "text/plain": [
       "'Harshal'"
      ]
     },
     "execution_count": 11,
     "metadata": {},
     "output_type": "execute_result"
    }
   ],
   "source": [
    "d1['name']"
   ]
  },
  {
   "cell_type": "code",
   "execution_count": 12,
   "id": "694b6ddc-b582-4b35-b606-477ddb637ec1",
   "metadata": {},
   "outputs": [
    {
     "data": {
      "text/plain": [
       "'male'"
      ]
     },
     "execution_count": 12,
     "metadata": {},
     "output_type": "execute_result"
    }
   ],
   "source": [
    "d1['Gender']"
   ]
  },
  {
   "cell_type": "code",
   "execution_count": 13,
   "id": "19b6d62a-a06a-4970-a35b-5e69081bfd3e",
   "metadata": {},
   "outputs": [],
   "source": [
    "d3 = {\n",
    "    \"name\": \"Harshal\",\n",
    "    \"college_name\": \"ABC\",\n",
    "    \"semester\": 5,\n",
    "    \"subjects\": {\"DSA\":80, \"Math\":50, \"English\": 70}\n",
    "\n",
    "}\n"
   ]
  },
  {
   "cell_type": "code",
   "execution_count": 14,
   "id": "21532c2d-e0aa-4a50-8645-f4465b9cd1eb",
   "metadata": {},
   "outputs": [
    {
     "data": {
      "text/plain": [
       "'ABC'"
      ]
     },
     "execution_count": 14,
     "metadata": {},
     "output_type": "execute_result"
    }
   ],
   "source": [
    "d3[\"college_name\"]"
   ]
  },
  {
   "cell_type": "code",
   "execution_count": 15,
   "id": "4f2019ef-ea93-4cb0-bea7-cc572548731d",
   "metadata": {},
   "outputs": [
    {
     "data": {
      "text/plain": [
       "70"
      ]
     },
     "execution_count": 15,
     "metadata": {},
     "output_type": "execute_result"
    }
   ],
   "source": [
    "d3[\"subjects\"][\"English\"]"
   ]
  },
  {
   "cell_type": "markdown",
   "id": "ab0b7868-7b29-4982-9105-e11c34aa74f4",
   "metadata": {},
   "source": [
    "### Adding key-value pair"
   ]
  },
  {
   "cell_type": "code",
   "execution_count": 16,
   "id": "b4927d6d-e01d-4ec9-bbfe-95eab0d9f6d9",
   "metadata": {},
   "outputs": [
    {
     "name": "stdout",
     "output_type": "stream",
     "text": [
      "{'name': 'Harshal', 'age': 25, 'Gender': 'male'}\n"
     ]
    }
   ],
   "source": [
    "d1 = {\"name\": \"Harshal\", \"age\":25, \"Gender\":\"male\"}\n",
    "print(d1)"
   ]
  },
  {
   "cell_type": "code",
   "execution_count": 17,
   "id": "efd5f125-91fb-4130-9a05-318d41cdf5c7",
   "metadata": {},
   "outputs": [],
   "source": [
    "d1['weight'] = 65"
   ]
  },
  {
   "cell_type": "code",
   "execution_count": 18,
   "id": "e3d37319-9f7d-48c0-8ff8-4e210f91ee55",
   "metadata": {},
   "outputs": [
    {
     "name": "stdout",
     "output_type": "stream",
     "text": [
      "{'name': 'Harshal', 'age': 25, 'Gender': 'male', 'weight': 65}\n"
     ]
    }
   ],
   "source": [
    "print(d1)"
   ]
  },
  {
   "cell_type": "code",
   "execution_count": 19,
   "id": "b3d51e8e-c136-42b7-8cde-e1042885c082",
   "metadata": {},
   "outputs": [],
   "source": [
    "d3 = {\n",
    "    \"name\": \"Harshal\",\n",
    "    \"college_name\": \"ABC\",\n",
    "    \"semester\": 5,\n",
    "    \"subjects\": {\"DSA\":80, \"Math\":50, \"English\": 70}\n",
    "\n",
    "}"
   ]
  },
  {
   "cell_type": "code",
   "execution_count": 20,
   "id": "4bae09bd-4d01-428a-a6a6-8be1da690a11",
   "metadata": {},
   "outputs": [],
   "source": [
    "d3['subjects']['Python'] = 80"
   ]
  },
  {
   "cell_type": "code",
   "execution_count": 21,
   "id": "bb12d720-54d2-4258-902d-45a3c06ed4ec",
   "metadata": {},
   "outputs": [
    {
     "name": "stdout",
     "output_type": "stream",
     "text": [
      "{'name': 'Harshal', 'college_name': 'ABC', 'semester': 5, 'subjects': {'DSA': 80, 'Math': 50, 'English': 70, 'Python': 80}}\n"
     ]
    }
   ],
   "source": [
    "print(d3)"
   ]
  },
  {
   "cell_type": "markdown",
   "id": "e2e207cf-91f1-40d7-a353-5302a77ee08e",
   "metadata": {},
   "source": [
    "### Editing key-value pair"
   ]
  },
  {
   "cell_type": "code",
   "execution_count": 22,
   "id": "7d2091b1-298e-4fb4-9750-0d7a8f2eed9a",
   "metadata": {},
   "outputs": [
    {
     "name": "stdout",
     "output_type": "stream",
     "text": [
      "{'name': 'Harshal', 'age': 25, 'Gender': 'male'}\n"
     ]
    }
   ],
   "source": [
    "d1 = {\"name\": \"Harshal\", \"age\":25, \"Gender\":\"male\"}\n",
    "print(d1)"
   ]
  },
  {
   "cell_type": "code",
   "execution_count": 23,
   "id": "ddf09a41-7f69-442b-a04a-118d507e8c0d",
   "metadata": {},
   "outputs": [],
   "source": [
    "d1['name'] = \"Alex\""
   ]
  },
  {
   "cell_type": "code",
   "execution_count": 24,
   "id": "3dd35159-0d5e-46f5-891f-6e2ea93c89ef",
   "metadata": {},
   "outputs": [
    {
     "name": "stdout",
     "output_type": "stream",
     "text": [
      "{'name': 'Alex', 'age': 25, 'Gender': 'male'}\n"
     ]
    }
   ],
   "source": [
    "print(d1)"
   ]
  },
  {
   "cell_type": "markdown",
   "id": "6c7f451e-0757-4222-8e54-13d2322f95e0",
   "metadata": {},
   "source": [
    "### Remove key-value pair"
   ]
  },
  {
   "cell_type": "code",
   "execution_count": 25,
   "id": "d09f564b-0562-4812-ac2d-50c65e49cd23",
   "metadata": {},
   "outputs": [],
   "source": [
    "d1 = {\"name\": \"Harshal\", \"age\":25, \"Gender\":\"male\"}"
   ]
  },
  {
   "cell_type": "code",
   "execution_count": 26,
   "id": "a3b4a4e6-2ecf-4c72-9826-c75183e52ca4",
   "metadata": {},
   "outputs": [
    {
     "name": "stdout",
     "output_type": "stream",
     "text": [
      "{'name': 'Harshal', 'Gender': 'male'}\n"
     ]
    }
   ],
   "source": [
    "# pop\n",
    "d1.pop(\"age\")\n",
    "print(d1)"
   ]
  },
  {
   "cell_type": "code",
   "execution_count": 28,
   "id": "5cb7eaab-8fed-49ae-a67f-5e7e5befc44c",
   "metadata": {},
   "outputs": [
    {
     "name": "stdout",
     "output_type": "stream",
     "text": [
      "{'name': 'Harshal', 'age': 25}\n"
     ]
    }
   ],
   "source": [
    "# popiteam\n",
    "d1 = {\"name\": \"Harshal\", \"age\":25, \"Gender\":\"male\"}\n",
    "d1.popitem()\n",
    "print(d1)"
   ]
  },
  {
   "cell_type": "code",
   "execution_count": 29,
   "id": "f2986579-32d8-436d-8872-9eaceb80ad39",
   "metadata": {},
   "outputs": [
    {
     "name": "stdout",
     "output_type": "stream",
     "text": [
      "{'age': 25, 'Gender': 'male'}\n"
     ]
    }
   ],
   "source": [
    "# del\n",
    "d1 = {\"name\": \"Harshal\", \"age\":25, \"Gender\":\"male\"}\n",
    "del d1[\"name\"]\n",
    "print(d1)"
   ]
  },
  {
   "cell_type": "code",
   "execution_count": null,
   "id": "fffcf3e0-54a0-42c5-a04d-47a1c9af1b94",
   "metadata": {},
   "outputs": [],
   "source": [
    "#clear\n",
    "\n",
    "d1 = {\"name\": \"Harshal\", \"age\":25, \"Gender\":\"male\"}\n",
    "d1.clear()\n",
    "print(d1)"
   ]
  },
  {
   "cell_type": "code",
   "execution_count": null,
   "id": "d4abb057-782d-4a63-8b9d-b58904b7fe1a",
   "metadata": {},
   "outputs": [],
   "source": []
  },
  {
   "cell_type": "code",
   "execution_count": null,
   "id": "d5fae63f-8f05-4a72-aae8-6765e6cdbb51",
   "metadata": {},
   "outputs": [],
   "source": []
  }
 ],
 "metadata": {
  "kernelspec": {
   "display_name": "Python 3 (ipykernel)",
   "language": "python",
   "name": "python3"
  },
  "language_info": {
   "codemirror_mode": {
    "name": "ipython",
    "version": 3
   },
   "file_extension": ".py",
   "mimetype": "text/x-python",
   "name": "python",
   "nbconvert_exporter": "python",
   "pygments_lexer": "ipython3",
   "version": "3.11.9"
  }
 },
 "nbformat": 4,
 "nbformat_minor": 5
}
