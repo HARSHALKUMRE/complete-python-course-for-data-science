{
 "cells": [
  {
   "cell_type": "markdown",
   "id": "599df9c0-2ec3-4c60-b15b-ff7f020f5278",
   "metadata": {},
   "source": [
    "## Functions without return statement"
   ]
  },
  {
   "cell_type": "code",
   "execution_count": 1,
   "id": "18e6075f-6080-46a0-b799-5f903919f8ac",
   "metadata": {},
   "outputs": [
    {
     "name": "stdout",
     "output_type": "stream",
     "text": [
      "Odd Number\n",
      "None\n"
     ]
    }
   ],
   "source": [
    "def odd_even(num):\n",
    "    if num % 2 == 0:\n",
    "        print(\"Even Number\")\n",
    "    else:\n",
    "        print(\"Odd Number\")\n",
    "    \n",
    "print(odd_even(5))"
   ]
  },
  {
   "cell_type": "code",
   "execution_count": null,
   "id": "8087a152-2840-44b6-be3d-d9ea91d97cb1",
   "metadata": {},
   "outputs": [],
   "source": []
  }
 ],
 "metadata": {
  "kernelspec": {
   "display_name": "Python 3 (ipykernel)",
   "language": "python",
   "name": "python3"
  },
  "language_info": {
   "codemirror_mode": {
    "name": "ipython",
    "version": 3
   },
   "file_extension": ".py",
   "mimetype": "text/x-python",
   "name": "python",
   "nbconvert_exporter": "python",
   "pygments_lexer": "ipython3",
   "version": "3.11.9"
  }
 },
 "nbformat": 4,
 "nbformat_minor": 5
}
