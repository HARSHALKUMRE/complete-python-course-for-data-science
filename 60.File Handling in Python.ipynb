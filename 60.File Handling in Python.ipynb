{
 "cells": [
  {
   "cell_type": "markdown",
   "id": "8fb59c84-93e6-4150-91bf-5187c4baf56a",
   "metadata": {},
   "source": [
    "## File Handling in Python\n",
    "\n",
    "Types of data used for I/O:\n",
    "- Text - '12345' as a sequence of unicode chars\n",
    "- Binary - 12345 as a sequence of bytes of its binary equivalent\n",
    "\n",
    "Hence there are 2 file types to deal with\n",
    "- Text files - All program files are text files\n",
    "- Binary Files - Images,music,video,exe files\n",
    "\n",
    "#### How File I/O is done in most programming languages\n",
    "- Open a file\n",
    "- Read/Write data\n",
    "- Close the file"
   ]
  },
  {
   "cell_type": "markdown",
   "id": "6158ffa9-5b77-47b4-9eeb-1fd66545e619",
   "metadata": {},
   "source": [
    "### Writing to a file"
   ]
  },
  {
   "cell_type": "code",
   "execution_count": 2,
   "id": "b2ecdd12-89fe-46a4-b429-250257166843",
   "metadata": {},
   "outputs": [],
   "source": [
    "#if the file is not present\n",
    "\n",
    "f = open(\"files/sample.txt\", \"w\")\n",
    "f.write(\"Hello Python\")\n",
    "f.close()\n",
    "\n",
    "# f.write(\"Hello\")"
   ]
  },
  {
   "cell_type": "code",
   "execution_count": 3,
   "id": "d1ddd587-17cf-40dc-abe4-4b151c1b1baf",
   "metadata": {},
   "outputs": [],
   "source": [
    "# write multiline strings\n",
    "f = open('files/sample1.txt','w')\n",
    "f.write('hello world')\n",
    "f.write('\\nhow are you?')\n",
    "f.close()"
   ]
  },
  {
   "cell_type": "code",
   "execution_count": 4,
   "id": "c3619229-d3fa-48de-9358-2ce4afff72a2",
   "metadata": {},
   "outputs": [],
   "source": [
    "# case 2 - if the file is already present\n",
    "f = open('files/sample.txt','w')\n",
    "f.write('Yo yo honey singh')\n",
    "f.close()"
   ]
  },
  {
   "cell_type": "code",
   "execution_count": 5,
   "id": "c1632e68-f2f9-4cef-a924-daa64eefa5fe",
   "metadata": {},
   "outputs": [],
   "source": [
    "# introducing append mode\n",
    "f = open('files/sample.txt','a')\n",
    "f.write('\\nI am fine')\n",
    "f.close()"
   ]
  },
  {
   "cell_type": "code",
   "execution_count": 6,
   "id": "8723e59f-0581-4ca2-ab39-bc20e26c2bcb",
   "metadata": {},
   "outputs": [],
   "source": [
    "# write lines\n",
    "L = ['hello\\n','hi\\n','how are you\\n','I am fine']\n",
    "\n",
    "f = open('files/sample.txt','w')\n",
    "f.writelines(L)\n",
    "f.close()"
   ]
  },
  {
   "cell_type": "markdown",
   "id": "17239a08-4928-44a3-b5fc-a37f02cb1d5e",
   "metadata": {},
   "source": [
    "### reading from files"
   ]
  },
  {
   "cell_type": "code",
   "execution_count": 7,
   "id": "5bde3067-e038-4c72-be39-8a55f8684202",
   "metadata": {},
   "outputs": [
    {
     "name": "stdout",
     "output_type": "stream",
     "text": [
      "hello\n",
      "hi\n",
      "how are you\n",
      "I am fine\n"
     ]
    }
   ],
   "source": [
    "f = open('files/sample.txt', 'r')\n",
    "s = f.read()\n",
    "print(s)\n",
    "f.close()"
   ]
  },
  {
   "cell_type": "code",
   "execution_count": 8,
   "id": "ff1eda49-f474-4cab-90ab-a3782196a993",
   "metadata": {},
   "outputs": [
    {
     "name": "stdout",
     "output_type": "stream",
     "text": [
      "hello\n",
      "hi\n",
      "how ar\n"
     ]
    }
   ],
   "source": [
    "# reading upto n chars\n",
    "f = open('files/sample.txt','r')\n",
    "s = f.read(15)\n",
    "print(s)\n",
    "f.close()"
   ]
  },
  {
   "cell_type": "code",
   "execution_count": 9,
   "id": "04b5d327-c1b0-4c13-aed5-b7ced1c40dd4",
   "metadata": {},
   "outputs": [
    {
     "name": "stdout",
     "output_type": "stream",
     "text": [
      "hello\n",
      "hi\n"
     ]
    }
   ],
   "source": [
    "# readline() -> to read line by line\n",
    "f = open('files/sample.txt','r')\n",
    "print(f.readline(),end='')\n",
    "print(f.readline(),end='')\n",
    "f.close()"
   ]
  },
  {
   "cell_type": "code",
   "execution_count": 10,
   "id": "898c5983-19b4-463a-b16c-5050ebcafcbc",
   "metadata": {},
   "outputs": [
    {
     "name": "stdout",
     "output_type": "stream",
     "text": [
      "hello\n",
      "hi\n",
      "how are you\n",
      "I am fine"
     ]
    }
   ],
   "source": [
    "# reading entire using readline\n",
    "f = open('files/sample.txt','r')\n",
    "\n",
    "while True:\n",
    "    data = f.readline()\n",
    "\n",
    "    if data == \"\":\n",
    "        break\n",
    "    else:\n",
    "        print(data, end='')\n",
    "\n",
    "f.close()\n"
   ]
  },
  {
   "cell_type": "code",
   "execution_count": null,
   "id": "1757fe93-18d4-42ef-982c-ae634d6ddc18",
   "metadata": {},
   "outputs": [],
   "source": []
  }
 ],
 "metadata": {
  "kernelspec": {
   "display_name": "Python 3 (ipykernel)",
   "language": "python",
   "name": "python3"
  },
  "language_info": {
   "codemirror_mode": {
    "name": "ipython",
    "version": 3
   },
   "file_extension": ".py",
   "mimetype": "text/x-python",
   "name": "python",
   "nbconvert_exporter": "python",
   "pygments_lexer": "ipython3",
   "version": "3.11.9"
  }
 },
 "nbformat": 4,
 "nbformat_minor": 5
}
