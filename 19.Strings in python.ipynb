{
 "cells": [
  {
   "cell_type": "markdown",
   "id": "fd31b246-7972-41c4-9804-c4244eda6b68",
   "metadata": {},
   "source": [
    "### Strings are sequence of Characters\n",
    "#### In Python specifically, strings are a sequence of Unicode Characters\n",
    "Topic to be discussed:\n",
    "\n",
    "- Creating Strings\n",
    "- Accessing Strings\n",
    "- Adding Chars to Strings\n",
    "- Editing Strings\n",
    "- Deleting Strings\n",
    "- Operations on Strings\n",
    "- String Functions"
   ]
  },
  {
   "cell_type": "markdown",
   "id": "30d6548e-fd43-4b2f-a212-e4d316b137f6",
   "metadata": {},
   "source": [
    "### Creating Strings"
   ]
  },
  {
   "cell_type": "code",
   "execution_count": 2,
   "id": "f8fc2e07-915e-4aee-8102-b4ca14093966",
   "metadata": {},
   "outputs": [
    {
     "name": "stdout",
     "output_type": "stream",
     "text": [
      "hello\n"
     ]
    }
   ],
   "source": [
    "s = 'hello'\n",
    "s = \"hello\"\n",
    "\n",
    "# multiple strings\n",
    "s = '''hello'''\n",
    "s = \"\"\"hello\"\"\"\n",
    "s = str('hello')\n",
    "print(s)"
   ]
  },
  {
   "cell_type": "code",
   "execution_count": 3,
   "id": "aa40e48b-1d8d-4e4c-8bd7-1b3ac19f1da2",
   "metadata": {},
   "outputs": [],
   "source": [
    "s = str('hello')"
   ]
  },
  {
   "cell_type": "code",
   "execution_count": 4,
   "id": "12153ed2-f1d4-4f4f-be2c-dfad0894644a",
   "metadata": {},
   "outputs": [
    {
     "data": {
      "text/plain": [
       "'23'"
      ]
     },
     "execution_count": 4,
     "metadata": {},
     "output_type": "execute_result"
    }
   ],
   "source": [
    "a = 23\n",
    "str(a)"
   ]
  },
  {
   "cell_type": "code",
   "execution_count": 5,
   "id": "11c7ead0-6c33-4ff2-b262-0986c54059e6",
   "metadata": {},
   "outputs": [
    {
     "data": {
      "text/plain": [
       "'hello'"
      ]
     },
     "execution_count": 5,
     "metadata": {},
     "output_type": "execute_result"
    }
   ],
   "source": [
    "s"
   ]
  },
  {
   "cell_type": "code",
   "execution_count": 6,
   "id": "b7232b7a-6d48-4b36-8bb9-034a9c050f4b",
   "metadata": {},
   "outputs": [
    {
     "data": {
      "text/plain": [
       "\"it's my car\""
      ]
     },
     "execution_count": 6,
     "metadata": {},
     "output_type": "execute_result"
    }
   ],
   "source": [
    "\"it's my car\""
   ]
  },
  {
   "cell_type": "code",
   "execution_count": 7,
   "id": "1919b076-10e6-4a2c-b409-997598ad5bea",
   "metadata": {},
   "outputs": [
    {
     "data": {
      "text/plain": [
       "'my name is harshal.\\ni am a machine learning engineer'"
      ]
     },
     "execution_count": 7,
     "metadata": {},
     "output_type": "execute_result"
    }
   ],
   "source": [
    "\"\"\"my name is harshal.\n",
    "i am a machine learning engineer\"\"\""
   ]
  },
  {
   "cell_type": "markdown",
   "id": "1a94958f-679d-43f9-ae90-f59206b467f2",
   "metadata": {},
   "source": [
    "### Accessing Strings"
   ]
  },
  {
   "cell_type": "code",
   "execution_count": 8,
   "id": "debb6a82-f592-4bcc-a01f-edff04af81d9",
   "metadata": {},
   "outputs": [],
   "source": [
    "## positive access\n",
    "s = \"welcome to python\""
   ]
  },
  {
   "cell_type": "code",
   "execution_count": 9,
   "id": "4e4a99b9-a2bc-4f77-9d52-58fb201972c2",
   "metadata": {},
   "outputs": [
    {
     "data": {
      "text/plain": [
       "17"
      ]
     },
     "execution_count": 9,
     "metadata": {},
     "output_type": "execute_result"
    }
   ],
   "source": [
    "len(s)"
   ]
  },
  {
   "cell_type": "code",
   "execution_count": 10,
   "id": "a390fa0b-3393-410d-b490-8bbb6237e08d",
   "metadata": {},
   "outputs": [
    {
     "name": "stdout",
     "output_type": "stream",
     "text": [
      "l\n"
     ]
    }
   ],
   "source": [
    "print(s[2])"
   ]
  },
  {
   "cell_type": "code",
   "execution_count": 11,
   "id": "47f7ed92-36d5-4a5c-97ba-59d380e2c176",
   "metadata": {},
   "outputs": [],
   "source": [
    "# Negative indexing\n",
    "s = \"welcome to python\""
   ]
  },
  {
   "cell_type": "code",
   "execution_count": 12,
   "id": "33cc701d-bc18-40a3-9b1a-a61a34ec33b7",
   "metadata": {},
   "outputs": [
    {
     "data": {
      "text/plain": [
       "'o'"
      ]
     },
     "execution_count": 12,
     "metadata": {},
     "output_type": "execute_result"
    }
   ],
   "source": [
    "s[-2]"
   ]
  },
  {
   "cell_type": "code",
   "execution_count": null,
   "id": "853e2f99-6c83-442a-b7d0-531cc43c8d8a",
   "metadata": {},
   "outputs": [],
   "source": []
  },
  {
   "cell_type": "code",
   "execution_count": 13,
   "id": "35cb7587-bbeb-4178-9ac1-70ffede582bc",
   "metadata": {},
   "outputs": [],
   "source": [
    "# String slicing\n",
    "s = \"welcome to python\""
   ]
  },
  {
   "cell_type": "code",
   "execution_count": 14,
   "id": "04f39286-f507-46d4-bd44-d330d2676d83",
   "metadata": {},
   "outputs": [
    {
     "name": "stdout",
     "output_type": "stream",
     "text": [
      "welcome\n"
     ]
    }
   ],
   "source": [
    "print(s[0:7])"
   ]
  },
  {
   "cell_type": "code",
   "execution_count": 15,
   "id": "1934f721-dbac-47e4-950e-7cdc8ef6a600",
   "metadata": {},
   "outputs": [
    {
     "name": "stdout",
     "output_type": "stream",
     "text": [
      "python\n"
     ]
    }
   ],
   "source": [
    "print(s[11:17])"
   ]
  },
  {
   "cell_type": "code",
   "execution_count": 16,
   "id": "a130b239-d245-4b83-9868-1ea2c4ad7239",
   "metadata": {},
   "outputs": [
    {
     "name": "stdout",
     "output_type": "stream",
     "text": [
      "elcome to python\n"
     ]
    }
   ],
   "source": [
    "print(s[1:])"
   ]
  },
  {
   "cell_type": "code",
   "execution_count": 17,
   "id": "f1571e03-83d7-48fc-ad1d-039551887766",
   "metadata": {},
   "outputs": [],
   "source": [
    "s = \"welcome to python\""
   ]
  },
  {
   "cell_type": "code",
   "execution_count": 18,
   "id": "3e5046f2-0010-494a-9b52-2d43f3856ffc",
   "metadata": {},
   "outputs": [
    {
     "name": "stdout",
     "output_type": "stream",
     "text": [
      "welc\n"
     ]
    }
   ],
   "source": [
    "print(s[:4])"
   ]
  },
  {
   "cell_type": "code",
   "execution_count": 19,
   "id": "3dc15274-3979-4ee1-b274-d2e91e7dc439",
   "metadata": {},
   "outputs": [
    {
     "name": "stdout",
     "output_type": "stream",
     "text": [
      "welcome to python\n"
     ]
    }
   ],
   "source": [
    "print(s[:])"
   ]
  },
  {
   "cell_type": "code",
   "execution_count": 20,
   "id": "252c6ce4-d37d-427c-b411-64a4133e97c5",
   "metadata": {},
   "outputs": [
    {
     "name": "stdout",
     "output_type": "stream",
     "text": [
      "wce\n"
     ]
    }
   ],
   "source": [
    "print(s[0:7:3])"
   ]
  },
  {
   "cell_type": "code",
   "execution_count": 21,
   "id": "282eedf5-22a4-4a5d-98d7-fd1ef85e8e4c",
   "metadata": {},
   "outputs": [],
   "source": [
    "s = \"welcome to python\""
   ]
  },
  {
   "cell_type": "code",
   "execution_count": 22,
   "id": "06530fd8-a6ab-48f8-9b56-344c59903e7a",
   "metadata": {},
   "outputs": [
    {
     "name": "stdout",
     "output_type": "stream",
     "text": [
      "elcome\n"
     ]
    }
   ],
   "source": [
    "print(s[1:7])"
   ]
  },
  {
   "cell_type": "code",
   "execution_count": 23,
   "id": "d8975092-2dec-41a1-9dbd-fa2712010255",
   "metadata": {},
   "outputs": [
    {
     "name": "stdout",
     "output_type": "stream",
     "text": [
      " emocle\n"
     ]
    }
   ],
   "source": [
    "print(s[7:0:-1])"
   ]
  },
  {
   "cell_type": "code",
   "execution_count": 24,
   "id": "990b1d39-956d-4639-b036-4472d6760e7c",
   "metadata": {},
   "outputs": [
    {
     "name": "stdout",
     "output_type": "stream",
     "text": [
      " mce\n"
     ]
    }
   ],
   "source": [
    "print(s[7:0:-2])"
   ]
  },
  {
   "cell_type": "code",
   "execution_count": 25,
   "id": "320c79ff-ca2f-4d46-a81d-20e14a84fea3",
   "metadata": {},
   "outputs": [],
   "source": [
    "s = \"welcome to python\""
   ]
  },
  {
   "cell_type": "code",
   "execution_count": 26,
   "id": "ad9a62ac-6b4e-48ed-b312-148295bdd620",
   "metadata": {},
   "outputs": [
    {
     "name": "stdout",
     "output_type": "stream",
     "text": [
      "nohtyp ot emoclew\n"
     ]
    }
   ],
   "source": [
    "print(s[::-1])"
   ]
  },
  {
   "cell_type": "code",
   "execution_count": 27,
   "id": "905a6bc7-7e70-4b72-96f7-be1f9ca24645",
   "metadata": {},
   "outputs": [
    {
     "name": "stdout",
     "output_type": "stream",
     "text": [
      "nhy teolw\n"
     ]
    }
   ],
   "source": [
    "print(s[::-2])"
   ]
  },
  {
   "cell_type": "code",
   "execution_count": 28,
   "id": "f31d8531-d364-4636-bf61-e2edefc1aa28",
   "metadata": {},
   "outputs": [],
   "source": [
    "s = \"welcome to python\""
   ]
  },
  {
   "cell_type": "code",
   "execution_count": 29,
   "id": "d906d5e5-c84c-4a89-9a22-af78b099ef7d",
   "metadata": {},
   "outputs": [
    {
     "name": "stdout",
     "output_type": "stream",
     "text": [
      "python\n"
     ]
    }
   ],
   "source": [
    "print(s[-6:])"
   ]
  },
  {
   "cell_type": "code",
   "execution_count": 30,
   "id": "b234da4f-f742-490f-9030-00c35cc7cc55",
   "metadata": {},
   "outputs": [
    {
     "name": "stdout",
     "output_type": "stream",
     "text": [
      "nohtyp\n"
     ]
    }
   ],
   "source": [
    "print(s[-1:-7:-1])"
   ]
  },
  {
   "cell_type": "markdown",
   "id": "ecb04c6f-3e7b-484c-8fa4-500e27b5eb17",
   "metadata": {},
   "source": [
    "- Adding Chars to Strings\n",
    "- Editing Strings\n",
    "- Deleting Strings"
   ]
  },
  {
   "cell_type": "markdown",
   "id": "00cde681-a2b0-4bfe-8a28-e2abfb37021b",
   "metadata": {},
   "source": [
    "### Python strings are immutable"
   ]
  },
  {
   "cell_type": "code",
   "execution_count": 31,
   "id": "995212f7-24a8-472d-a886-dc934aaca2d7",
   "metadata": {},
   "outputs": [
    {
     "ename": "TypeError",
     "evalue": "'str' object does not support item assignment",
     "output_type": "error",
     "traceback": [
      "\u001b[1;31m---------------------------------------------------------------------------\u001b[0m",
      "\u001b[1;31mTypeError\u001b[0m                                 Traceback (most recent call last)",
      "Cell \u001b[1;32mIn[31], line 1\u001b[0m\n\u001b[1;32m----> 1\u001b[0m s[\u001b[38;5;241m0\u001b[39m] \u001b[38;5;241m=\u001b[39m \u001b[38;5;124m'\u001b[39m\u001b[38;5;124mA\u001b[39m\u001b[38;5;124m'\u001b[39m\n",
      "\u001b[1;31mTypeError\u001b[0m: 'str' object does not support item assignment"
     ]
    }
   ],
   "source": [
    "s[0] = 'A'"
   ]
  },
  {
   "cell_type": "code",
   "execution_count": 32,
   "id": "e9f7b589-1348-4ddb-ac6b-a09fd7308ff4",
   "metadata": {},
   "outputs": [
    {
     "ename": "TypeError",
     "evalue": "'str' object does not support item assignment",
     "output_type": "error",
     "traceback": [
      "\u001b[1;31m---------------------------------------------------------------------------\u001b[0m",
      "\u001b[1;31mTypeError\u001b[0m                                 Traceback (most recent call last)",
      "Cell \u001b[1;32mIn[32], line 1\u001b[0m\n\u001b[1;32m----> 1\u001b[0m s[\u001b[38;5;241m1\u001b[39m] \u001b[38;5;241m=\u001b[39m \u001b[38;5;124m'\u001b[39m\u001b[38;5;124mA\u001b[39m\u001b[38;5;124m'\u001b[39m\n",
      "\u001b[1;31mTypeError\u001b[0m: 'str' object does not support item assignment"
     ]
    }
   ],
   "source": [
    "s[1] = 'A'"
   ]
  },
  {
   "cell_type": "code",
   "execution_count": 33,
   "id": "92ab6328-b2eb-474e-9442-bf286b05a899",
   "metadata": {},
   "outputs": [],
   "source": [
    "s = \"welcome to python\""
   ]
  },
  {
   "cell_type": "code",
   "execution_count": 34,
   "id": "21f93ac9-2f41-452e-ae03-b7c0c07eebcf",
   "metadata": {},
   "outputs": [
    {
     "ename": "TypeError",
     "evalue": "'str' object doesn't support item deletion",
     "output_type": "error",
     "traceback": [
      "\u001b[1;31m---------------------------------------------------------------------------\u001b[0m",
      "\u001b[1;31mTypeError\u001b[0m                                 Traceback (most recent call last)",
      "Cell \u001b[1;32mIn[34], line 1\u001b[0m\n\u001b[1;32m----> 1\u001b[0m \u001b[38;5;28;01mdel\u001b[39;00m s[\u001b[38;5;241m0\u001b[39m]\n",
      "\u001b[1;31mTypeError\u001b[0m: 'str' object doesn't support item deletion"
     ]
    }
   ],
   "source": [
    "del s[0]"
   ]
  },
  {
   "cell_type": "code",
   "execution_count": 35,
   "id": "ba54d8cc-c50c-4d90-b398-dd751158a345",
   "metadata": {},
   "outputs": [
    {
     "ename": "NameError",
     "evalue": "name 's' is not defined",
     "output_type": "error",
     "traceback": [
      "\u001b[1;31m---------------------------------------------------------------------------\u001b[0m",
      "\u001b[1;31mNameError\u001b[0m                                 Traceback (most recent call last)",
      "Cell \u001b[1;32mIn[35], line 5\u001b[0m\n\u001b[0;32m      1\u001b[0m s \u001b[38;5;241m=\u001b[39m \u001b[38;5;124m\"\u001b[39m\u001b[38;5;124mwelcome to python\u001b[39m\u001b[38;5;124m\"\u001b[39m\n\u001b[0;32m      3\u001b[0m \u001b[38;5;28;01mdel\u001b[39;00m s\n\u001b[1;32m----> 5\u001b[0m \u001b[38;5;28mprint\u001b[39m(s)\n",
      "\u001b[1;31mNameError\u001b[0m: name 's' is not defined"
     ]
    }
   ],
   "source": [
    "s = \"welcome to python\"\n",
    "\n",
    "del s\n",
    "\n",
    "print(s)\n"
   ]
  },
  {
   "cell_type": "code",
   "execution_count": null,
   "id": "2ef82edf-a00d-4226-a1d3-4a8368f86e2b",
   "metadata": {},
   "outputs": [],
   "source": []
  },
  {
   "cell_type": "code",
   "execution_count": null,
   "id": "f0d3657c-9607-493e-bc2c-e636620d3952",
   "metadata": {},
   "outputs": [],
   "source": []
  }
 ],
 "metadata": {
  "kernelspec": {
   "display_name": "Python 3 (ipykernel)",
   "language": "python",
   "name": "python3"
  },
  "language_info": {
   "codemirror_mode": {
    "name": "ipython",
    "version": 3
   },
   "file_extension": ".py",
   "mimetype": "text/x-python",
   "name": "python",
   "nbconvert_exporter": "python",
   "pygments_lexer": "ipython3",
   "version": "3.11.9"
  }
 },
 "nbformat": 4,
 "nbformat_minor": 5
}
