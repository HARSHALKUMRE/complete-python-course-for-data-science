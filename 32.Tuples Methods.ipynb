{
 "cells": [
  {
   "cell_type": "markdown",
   "id": "31a2f3d6-0572-41ab-b343-ab6167813b9d",
   "metadata": {},
   "source": [
    "### Tuples Methods/Functions\n",
    "\n",
    "#### len/min/max/sorted/sum"
   ]
  },
  {
   "cell_type": "code",
   "execution_count": 1,
   "id": "bd476ef2-6e0f-4f25-9977-651b03cf0818",
   "metadata": {},
   "outputs": [
    {
     "name": "stdout",
     "output_type": "stream",
     "text": [
      "4\n",
      "1\n",
      "40\n",
      "46\n",
      "[40, 3, 2, 1]\n"
     ]
    }
   ],
   "source": [
    "t = (1,2,3,40)\n",
    "\n",
    "print(len(t))\n",
    "print(min(t))\n",
    "print(max(t))\n",
    "print(sum(t))\n",
    "print(sorted(t,reverse=True))"
   ]
  },
  {
   "cell_type": "code",
   "execution_count": 2,
   "id": "45255159-5e2a-4682-a98e-a8d41a8ca029",
   "metadata": {},
   "outputs": [],
   "source": [
    "# count\n",
    "\n",
    "t = (1,2,3,3,40)"
   ]
  },
  {
   "cell_type": "code",
   "execution_count": 3,
   "id": "970702c6-2a4c-46c5-94da-55e46d1621ce",
   "metadata": {},
   "outputs": [
    {
     "data": {
      "text/plain": [
       "2"
      ]
     },
     "execution_count": 3,
     "metadata": {},
     "output_type": "execute_result"
    }
   ],
   "source": [
    "t.count(3)"
   ]
  },
  {
   "cell_type": "code",
   "execution_count": 4,
   "id": "db0ea4a2-fcd2-42ea-8230-3b182ab2ef1d",
   "metadata": {},
   "outputs": [
    {
     "data": {
      "text/plain": [
       "1"
      ]
     },
     "execution_count": 4,
     "metadata": {},
     "output_type": "execute_result"
    }
   ],
   "source": [
    "# index\n",
    "\n",
    "t.index(2)"
   ]
  },
  {
   "cell_type": "code",
   "execution_count": 5,
   "id": "91f1c69c-00aa-4b6a-9c03-b8100135bb20",
   "metadata": {},
   "outputs": [
    {
     "data": {
      "text/plain": [
       "[1, 2, 3, 3, 40]"
      ]
     },
     "execution_count": 5,
     "metadata": {},
     "output_type": "execute_result"
    }
   ],
   "source": [
    "t = (1,2,3,3,40)\n",
    "\n",
    "temp = list(t)\n",
    "temp"
   ]
  },
  {
   "cell_type": "code",
   "execution_count": null,
   "id": "67d85baa-90ae-4976-9168-f79220be60f1",
   "metadata": {},
   "outputs": [],
   "source": []
  }
 ],
 "metadata": {
  "kernelspec": {
   "display_name": "Python 3 (ipykernel)",
   "language": "python",
   "name": "python3"
  },
  "language_info": {
   "codemirror_mode": {
    "name": "ipython",
    "version": 3
   },
   "file_extension": ".py",
   "mimetype": "text/x-python",
   "name": "python",
   "nbconvert_exporter": "python",
   "pygments_lexer": "ipython3",
   "version": "3.11.9"
  }
 },
 "nbformat": 4,
 "nbformat_minor": 5
}
