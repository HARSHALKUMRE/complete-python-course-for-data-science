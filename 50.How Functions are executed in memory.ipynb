{
 "cells": [
  {
   "cell_type": "markdown",
   "id": "bf35c99f-6404-4aae-b040-b692bb22699f",
   "metadata": {},
   "source": [
    "## How Functions are executed in memory"
   ]
  },
  {
   "cell_type": "code",
   "execution_count": 1,
   "id": "a21c2abe-7072-4de7-86b4-54b33424e9a1",
   "metadata": {},
   "outputs": [
    {
     "name": "stdout",
     "output_type": "stream",
     "text": [
      "Odd Number\n"
     ]
    }
   ],
   "source": [
    "def odd_even(num):\n",
    "    if num % 2 == 0:\n",
    "        return \"Even Number\"\n",
    "    else:\n",
    "        return \"Odd Number\"\n",
    "    \n",
    "print(odd_even(5))"
   ]
  },
  {
   "cell_type": "code",
   "execution_count": null,
   "id": "8713a19d-d048-4acc-8758-7ffff7dd6bb3",
   "metadata": {},
   "outputs": [],
   "source": []
  },
  {
   "cell_type": "code",
   "execution_count": null,
   "id": "6948723b-7078-456e-ace4-f2731a05d1a3",
   "metadata": {},
   "outputs": [],
   "source": []
  }
 ],
 "metadata": {
  "kernelspec": {
   "display_name": "Python 3 (ipykernel)",
   "language": "python",
   "name": "python3"
  },
  "language_info": {
   "codemirror_mode": {
    "name": "ipython",
    "version": 3
   },
   "file_extension": ".py",
   "mimetype": "text/x-python",
   "name": "python",
   "nbconvert_exporter": "python",
   "pygments_lexer": "ipython3",
   "version": "3.11.9"
  }
 },
 "nbformat": 4,
 "nbformat_minor": 5
}
