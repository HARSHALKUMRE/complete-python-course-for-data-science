{
 "cells": [
  {
   "cell_type": "markdown",
   "id": "d12b4285-d8bd-40ef-8c9e-07cf83e05351",
   "metadata": {},
   "source": [
    "### 1. Update no of items available"
   ]
  },
  {
   "cell_type": "code",
   "execution_count": 1,
   "id": "278b4a2f-e573-4c8c-acbf-aa7404138d0d",
   "metadata": {},
   "outputs": [
    {
     "name": "stdout",
     "output_type": "stream",
     "text": [
      "Audi = 10\n",
      "BMW = 20\n",
      "TATA = 30\n",
      "Volvo = 5\n"
     ]
    }
   ],
   "source": [
    "cars_name = [\"Audi\", \"BMW\", \"TATA\", \"Volvo\"]\n",
    "no_of_cars = [10,20,30,5]\n",
    "\n",
    "for i, j in zip(cars_name, no_of_cars):\n",
    "    print(f\"{i} = {j}\")"
   ]
  },
  {
   "cell_type": "code",
   "execution_count": 3,
   "id": "594d613d-0b2f-4ecb-bd04-162008e5c7e6",
   "metadata": {},
   "outputs": [],
   "source": [
    "LC = [f\"{i} = {j}\" for i, j in zip(cars_name, no_of_cars)]"
   ]
  },
  {
   "cell_type": "code",
   "execution_count": 4,
   "id": "e7c757a8-829a-4b9b-bf00-aa138d81763f",
   "metadata": {},
   "outputs": [
    {
     "data": {
      "text/plain": [
       "['Audi = 10', 'BMW = 20', 'TATA = 30', 'Volvo = 5']"
      ]
     },
     "execution_count": 4,
     "metadata": {},
     "output_type": "execute_result"
    }
   ],
   "source": [
    "LC"
   ]
  },
  {
   "cell_type": "markdown",
   "id": "42e771cb-ff87-48cf-8262-b1e43332b863",
   "metadata": {},
   "source": [
    "### 2. You are given a list of integers. You are asked to make a list by running through elements of the list by adding all elements greater and itself."
   ]
  },
  {
   "cell_type": "code",
   "execution_count": 5,
   "id": "ee7a562c-05a1-46fc-aed9-438c3634e9a2",
   "metadata": {},
   "outputs": [
    {
     "name": "stdout",
     "output_type": "stream",
     "text": [
      "[22, 20, 16, 10, 23]\n"
     ]
    }
   ],
   "source": [
    "L = [2,4,6,10,1]\n",
    "\n",
    "result = []\n",
    "\n",
    "for i in L:\n",
    "    sum = 0\n",
    "    for j in L:\n",
    "        if i<=j:\n",
    "            sum = sum + j\n",
    "    result.append(sum)\n",
    "\n",
    "print(result)"
   ]
  },
  {
   "cell_type": "markdown",
   "id": "a095a0ae-6b18-430f-a0d9-70f9657e77c9",
   "metadata": {},
   "source": [
    "### 3. Find list of common unique items from two list. and show in increasing order"
   ]
  },
  {
   "cell_type": "code",
   "execution_count": 8,
   "id": "14bf7d29-69c3-456d-9384-e350d3720a58",
   "metadata": {},
   "outputs": [
    {
     "name": "stdout",
     "output_type": "stream",
     "text": [
      "[34, 67, 89]\n"
     ]
    }
   ],
   "source": [
    "num1 = [23,45,67,78,89,34,67]\n",
    "num2 = [34,89,55,56,39,67,67]\n",
    "\n",
    "common = []\n",
    "\n",
    "for i in num1:\n",
    "    if i in num2:\n",
    "        if i not in common:\n",
    "            common.append(i)\n",
    "\n",
    "print(sorted(common))"
   ]
  },
  {
   "cell_type": "code",
   "execution_count": null,
   "id": "7f3fb901-73ce-47d8-ac7b-df8b3db64c35",
   "metadata": {},
   "outputs": [],
   "source": []
  },
  {
   "cell_type": "code",
   "execution_count": null,
   "id": "c97d079c-d6ce-489f-bfb1-58723b1bfbd1",
   "metadata": {},
   "outputs": [],
   "source": []
  }
 ],
 "metadata": {
  "kernelspec": {
   "display_name": "Python 3 (ipykernel)",
   "language": "python",
   "name": "python3"
  },
  "language_info": {
   "codemirror_mode": {
    "name": "ipython",
    "version": 3
   },
   "file_extension": ".py",
   "mimetype": "text/x-python",
   "name": "python",
   "nbconvert_exporter": "python",
   "pygments_lexer": "ipython3",
   "version": "3.11.9"
  }
 },
 "nbformat": 4,
 "nbformat_minor": 5
}
