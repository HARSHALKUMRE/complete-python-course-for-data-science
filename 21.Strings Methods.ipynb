{
 "cells": [
  {
   "cell_type": "markdown",
   "id": "cefd6a73-0acb-4945-ad2a-0c8582b145b5",
   "metadata": {},
   "source": [
    "### Common Functions/Methods\n",
    "- len\n",
    "- max\n",
    "- min\n",
    "- sorted"
   ]
  },
  {
   "cell_type": "code",
   "execution_count": 1,
   "id": "c565afe5-7d79-4489-8547-99fc22b11b43",
   "metadata": {},
   "outputs": [],
   "source": [
    "s = \"Welcome to Python\""
   ]
  },
  {
   "cell_type": "code",
   "execution_count": 2,
   "id": "cebee4f9-eaf0-4ee7-a9a5-3aca91c30396",
   "metadata": {},
   "outputs": [
    {
     "data": {
      "text/plain": [
       "17"
      ]
     },
     "execution_count": 2,
     "metadata": {},
     "output_type": "execute_result"
    }
   ],
   "source": [
    "len(s)"
   ]
  },
  {
   "cell_type": "code",
   "execution_count": 3,
   "id": "1ba45226-0c7a-455e-9e0f-e733e5d98a21",
   "metadata": {},
   "outputs": [
    {
     "data": {
      "text/plain": [
       "'y'"
      ]
     },
     "execution_count": 3,
     "metadata": {},
     "output_type": "execute_result"
    }
   ],
   "source": [
    "max(s)"
   ]
  },
  {
   "cell_type": "code",
   "execution_count": 4,
   "id": "0cefc5e3-b2ae-4f8d-bb6f-47bb238f09a8",
   "metadata": {},
   "outputs": [
    {
     "data": {
      "text/plain": [
       "' '"
      ]
     },
     "execution_count": 4,
     "metadata": {},
     "output_type": "execute_result"
    }
   ],
   "source": [
    "min(s)"
   ]
  },
  {
   "cell_type": "code",
   "execution_count": 5,
   "id": "8602a4ce-f698-42f9-972b-f4db966e99ed",
   "metadata": {},
   "outputs": [
    {
     "data": {
      "text/plain": [
       "[' ',\n",
       " ' ',\n",
       " 'P',\n",
       " 'W',\n",
       " 'c',\n",
       " 'e',\n",
       " 'e',\n",
       " 'h',\n",
       " 'l',\n",
       " 'm',\n",
       " 'n',\n",
       " 'o',\n",
       " 'o',\n",
       " 'o',\n",
       " 't',\n",
       " 't',\n",
       " 'y']"
      ]
     },
     "execution_count": 5,
     "metadata": {},
     "output_type": "execute_result"
    }
   ],
   "source": [
    "sorted(s)"
   ]
  },
  {
   "cell_type": "code",
   "execution_count": 7,
   "id": "f699b19e-876f-4316-882d-aeafa1d64150",
   "metadata": {},
   "outputs": [
    {
     "data": {
      "text/plain": [
       "[' ', 'd', 'e', 'h', 'l', 'l', 'l', 'o', 'o', 'r', 'w']"
      ]
     },
     "execution_count": 7,
     "metadata": {},
     "output_type": "execute_result"
    }
   ],
   "source": [
    "s = \"hello world\"\n",
    "sorted(s)"
   ]
  },
  {
   "cell_type": "code",
   "execution_count": 8,
   "id": "0be9cc06-7ac1-438f-b744-0b6b7e7c47fb",
   "metadata": {},
   "outputs": [
    {
     "data": {
      "text/plain": [
       "['w', 'r', 'o', 'o', 'l', 'l', 'l', 'h', 'e', 'd', ' ']"
      ]
     },
     "execution_count": 8,
     "metadata": {},
     "output_type": "execute_result"
    }
   ],
   "source": [
    "s = \"hello world\"\n",
    "sorted(s, reverse=True)"
   ]
  },
  {
   "cell_type": "markdown",
   "id": "a88b5ea1-75b3-42da-91db-b68aaad75701",
   "metadata": {},
   "source": [
    "### Strings Functions/Methods\n",
    "- Capitalize\n",
    "- Title\n",
    "- Upper\n",
    "- Lower\n",
    "- Swapcase"
   ]
  },
  {
   "cell_type": "code",
   "execution_count": 9,
   "id": "f98b0533-e5c3-4583-9e6d-cb22a289e371",
   "metadata": {},
   "outputs": [],
   "source": [
    "s = \"welcome to python\""
   ]
  },
  {
   "cell_type": "code",
   "execution_count": 10,
   "id": "6422a470-f796-4230-8cca-53cc84837fc2",
   "metadata": {},
   "outputs": [
    {
     "data": {
      "text/plain": [
       "'Welcome to python'"
      ]
     },
     "execution_count": 10,
     "metadata": {},
     "output_type": "execute_result"
    }
   ],
   "source": [
    "s.capitalize()"
   ]
  },
  {
   "cell_type": "code",
   "execution_count": 11,
   "id": "751dd6cb-c52d-4a2b-a9cf-c75880bb6ce3",
   "metadata": {},
   "outputs": [
    {
     "name": "stdout",
     "output_type": "stream",
     "text": [
      "welcome to python\n"
     ]
    }
   ],
   "source": [
    "print(s)"
   ]
  },
  {
   "cell_type": "code",
   "execution_count": 12,
   "id": "b219c783-6246-4141-84e0-d7cb8f130bda",
   "metadata": {},
   "outputs": [
    {
     "data": {
      "text/plain": [
       "'Welcome To Python'"
      ]
     },
     "execution_count": 12,
     "metadata": {},
     "output_type": "execute_result"
    }
   ],
   "source": [
    "s.title()"
   ]
  },
  {
   "cell_type": "code",
   "execution_count": 13,
   "id": "a5843f3f-b377-4ce2-8942-43d83523e989",
   "metadata": {},
   "outputs": [
    {
     "data": {
      "text/plain": [
       "'WELCOME TO PYTHON'"
      ]
     },
     "execution_count": 13,
     "metadata": {},
     "output_type": "execute_result"
    }
   ],
   "source": [
    "s.upper()"
   ]
  },
  {
   "cell_type": "code",
   "execution_count": 15,
   "id": "6e2eac3f-ea92-4f57-9c5b-bf0c57ee040d",
   "metadata": {},
   "outputs": [],
   "source": [
    "s = 'WELCOME TO PYTHON'"
   ]
  },
  {
   "cell_type": "code",
   "execution_count": 16,
   "id": "d88bed7e-a207-43ac-815f-0c01ea2e8917",
   "metadata": {},
   "outputs": [
    {
     "data": {
      "text/plain": [
       "'welcome to python'"
      ]
     },
     "execution_count": 16,
     "metadata": {},
     "output_type": "execute_result"
    }
   ],
   "source": [
    "s.lower()"
   ]
  },
  {
   "cell_type": "code",
   "execution_count": 17,
   "id": "2a310e4c-7fce-4769-8e2c-c0d91d0983b2",
   "metadata": {},
   "outputs": [],
   "source": [
    "s = 'wElCoMe'"
   ]
  },
  {
   "cell_type": "code",
   "execution_count": 18,
   "id": "86a95106-912b-4d62-b1a2-6bf93d25748f",
   "metadata": {},
   "outputs": [
    {
     "data": {
      "text/plain": [
       "'WeLcOmE'"
      ]
     },
     "execution_count": 18,
     "metadata": {},
     "output_type": "execute_result"
    }
   ],
   "source": [
    "s.swapcase()"
   ]
  },
  {
   "cell_type": "markdown",
   "id": "1dade139-7653-4cc9-a67b-b1e4017d123f",
   "metadata": {},
   "source": [
    "- Count\n",
    "- Find\n",
    "- Index"
   ]
  },
  {
   "cell_type": "code",
   "execution_count": 19,
   "id": "162ee436-3e6d-423b-8fac-a2c669f30b7a",
   "metadata": {},
   "outputs": [],
   "source": [
    "s = \"My name is Harshal\""
   ]
  },
  {
   "cell_type": "code",
   "execution_count": 20,
   "id": "035a558f-a1f9-4157-95b3-ff9d77be75b2",
   "metadata": {},
   "outputs": [
    {
     "data": {
      "text/plain": [
       "1"
      ]
     },
     "execution_count": 20,
     "metadata": {},
     "output_type": "execute_result"
    }
   ],
   "source": [
    "s.count(\"n\")"
   ]
  },
  {
   "cell_type": "code",
   "execution_count": 21,
   "id": "836e8eb1-a1fe-4ed5-8fb0-800e35cffb78",
   "metadata": {},
   "outputs": [
    {
     "data": {
      "text/plain": [
       "8"
      ]
     },
     "execution_count": 21,
     "metadata": {},
     "output_type": "execute_result"
    }
   ],
   "source": [
    "s.find(\"i\")"
   ]
  },
  {
   "cell_type": "code",
   "execution_count": 22,
   "id": "db44a77e-52ac-4405-a7ac-06b20a5c9885",
   "metadata": {},
   "outputs": [
    {
     "data": {
      "text/plain": [
       "-1"
      ]
     },
     "execution_count": 22,
     "metadata": {},
     "output_type": "execute_result"
    }
   ],
   "source": [
    "s.find(\"z\")"
   ]
  },
  {
   "cell_type": "code",
   "execution_count": 23,
   "id": "f12c186f-b95e-4516-b88c-80bf0ff5c87b",
   "metadata": {},
   "outputs": [
    {
     "ename": "ValueError",
     "evalue": "substring not found",
     "output_type": "error",
     "traceback": [
      "\u001b[1;31m---------------------------------------------------------------------------\u001b[0m",
      "\u001b[1;31mValueError\u001b[0m                                Traceback (most recent call last)",
      "Cell \u001b[1;32mIn[23], line 1\u001b[0m\n\u001b[1;32m----> 1\u001b[0m s\u001b[38;5;241m.\u001b[39mindex(\u001b[38;5;124m\"\u001b[39m\u001b[38;5;124mz\u001b[39m\u001b[38;5;124m\"\u001b[39m)\n",
      "\u001b[1;31mValueError\u001b[0m: substring not found"
     ]
    }
   ],
   "source": [
    "s.index(\"z\")"
   ]
  },
  {
   "cell_type": "markdown",
   "id": "86caa43c-5789-4b1e-90c0-0a768669a6b1",
   "metadata": {},
   "source": [
    "- endswith\n",
    "- startswith"
   ]
  },
  {
   "cell_type": "code",
   "execution_count": 24,
   "id": "db8504a0-40f4-4738-b137-c5a2eec1dfa4",
   "metadata": {},
   "outputs": [],
   "source": [
    "s = \"My name is harshal\""
   ]
  },
  {
   "cell_type": "code",
   "execution_count": 25,
   "id": "13cbec90-2dac-473d-80ed-144881b232ef",
   "metadata": {},
   "outputs": [
    {
     "data": {
      "text/plain": [
       "False"
      ]
     },
     "execution_count": 25,
     "metadata": {},
     "output_type": "execute_result"
    }
   ],
   "source": [
    "s.endswith(\"py\")"
   ]
  },
  {
   "cell_type": "code",
   "execution_count": 26,
   "id": "61720987-564e-42f5-bef7-831f0f3dc757",
   "metadata": {},
   "outputs": [
    {
     "data": {
      "text/plain": [
       "True"
      ]
     },
     "execution_count": 26,
     "metadata": {},
     "output_type": "execute_result"
    }
   ],
   "source": [
    "s.endswith(\"al\")"
   ]
  },
  {
   "cell_type": "code",
   "execution_count": 27,
   "id": "20ee4823-69d6-44eb-a32e-c1263f228739",
   "metadata": {},
   "outputs": [
    {
     "data": {
      "text/plain": [
       "True"
      ]
     },
     "execution_count": 27,
     "metadata": {},
     "output_type": "execute_result"
    }
   ],
   "source": [
    "s.startswith(\"My\")"
   ]
  },
  {
   "cell_type": "markdown",
   "id": "b4dacb62-9743-4c0b-a4bb-011603be75cc",
   "metadata": {},
   "source": [
    "format"
   ]
  },
  {
   "cell_type": "code",
   "execution_count": 28,
   "id": "b8ece4e4-1053-4862-9cb8-29b2c393742d",
   "metadata": {},
   "outputs": [],
   "source": [
    "name = \"Harshal\"\n",
    "gender = \"Male\"\n",
    "\n",
    "s = \"My name is {1}, and I am a {0}\""
   ]
  },
  {
   "cell_type": "code",
   "execution_count": 29,
   "id": "4f8c6005-c412-42e1-ae46-096fdb4f6bda",
   "metadata": {},
   "outputs": [
    {
     "data": {
      "text/plain": [
       "'My name is Harshal, and I am a Male'"
      ]
     },
     "execution_count": 29,
     "metadata": {},
     "output_type": "execute_result"
    }
   ],
   "source": [
    "s.format(gender, name)"
   ]
  },
  {
   "cell_type": "code",
   "execution_count": 30,
   "id": "4742500c-9075-4263-9c07-9e0297aa7a4c",
   "metadata": {},
   "outputs": [],
   "source": [
    "s = \"Welcome {} to facebook\""
   ]
  },
  {
   "cell_type": "code",
   "execution_count": 31,
   "id": "00dddc2e-a389-42d9-8e59-4b4058453b52",
   "metadata": {},
   "outputs": [
    {
     "data": {
      "text/plain": [
       "'Welcome john to facebook'"
      ]
     },
     "execution_count": 31,
     "metadata": {},
     "output_type": "execute_result"
    }
   ],
   "source": [
    "name = \"john\"\n",
    "\n",
    "s.format(name)"
   ]
  },
  {
   "cell_type": "markdown",
   "id": "ae5ddeee-41b5-4af2-8aa3-518e7eb6f63a",
   "metadata": {},
   "source": [
    "- isalnum\n",
    "- isalpha\n",
    "- isdigit\n",
    "- isidentifier"
   ]
  },
  {
   "cell_type": "code",
   "execution_count": 33,
   "id": "f51f1163-8481-49b1-a454-a4bb76d9969a",
   "metadata": {},
   "outputs": [],
   "source": [
    "s = \"Harshal@123\""
   ]
  },
  {
   "cell_type": "code",
   "execution_count": 34,
   "id": "fa8a96de-99f3-47c4-a3ea-abe4ef924df4",
   "metadata": {},
   "outputs": [
    {
     "data": {
      "text/plain": [
       "False"
      ]
     },
     "execution_count": 34,
     "metadata": {},
     "output_type": "execute_result"
    }
   ],
   "source": [
    "s.isalnum()"
   ]
  },
  {
   "cell_type": "code",
   "execution_count": 35,
   "id": "14476686-4691-4bb4-9330-752fc8ed8feb",
   "metadata": {},
   "outputs": [],
   "source": [
    "s = \"Harshal12\""
   ]
  },
  {
   "cell_type": "code",
   "execution_count": 36,
   "id": "0dd9e9c6-626f-4b4d-8ba5-eed12f667d10",
   "metadata": {},
   "outputs": [
    {
     "data": {
      "text/plain": [
       "False"
      ]
     },
     "execution_count": 36,
     "metadata": {},
     "output_type": "execute_result"
    }
   ],
   "source": [
    "s.isalpha()"
   ]
  },
  {
   "cell_type": "code",
   "execution_count": 37,
   "id": "0b116f12-53d9-4953-a3dc-ba894d4c120d",
   "metadata": {},
   "outputs": [],
   "source": [
    "s = \"12\""
   ]
  },
  {
   "cell_type": "code",
   "execution_count": 38,
   "id": "5743b833-dced-4a43-9835-a16f9d335b0e",
   "metadata": {},
   "outputs": [
    {
     "data": {
      "text/plain": [
       "True"
      ]
     },
     "execution_count": 38,
     "metadata": {},
     "output_type": "execute_result"
    }
   ],
   "source": [
    "s.isdigit()"
   ]
  },
  {
   "cell_type": "code",
   "execution_count": 39,
   "id": "30dd9c1d-5608-43c0-919f-65812eb9cdb1",
   "metadata": {},
   "outputs": [],
   "source": [
    "s = \"name_age\""
   ]
  },
  {
   "cell_type": "code",
   "execution_count": 40,
   "id": "c97e23d7-57f4-4b22-8379-a98273f524e7",
   "metadata": {},
   "outputs": [
    {
     "data": {
      "text/plain": [
       "True"
      ]
     },
     "execution_count": 40,
     "metadata": {},
     "output_type": "execute_result"
    }
   ],
   "source": [
    "s.isidentifier()"
   ]
  },
  {
   "cell_type": "markdown",
   "id": "91dd3b0b-6372-4e29-89ed-b37aa2da7fd7",
   "metadata": {},
   "source": [
    "- Split\n",
    "- Join"
   ]
  },
  {
   "cell_type": "code",
   "execution_count": 42,
   "id": "2c9dcff4-456a-458e-a9be-afa3f1e2b25b",
   "metadata": {},
   "outputs": [],
   "source": [
    "s = \"My name is Harshal\""
   ]
  },
  {
   "cell_type": "code",
   "execution_count": 43,
   "id": "648860b1-e13f-4d32-b7b0-a51223a0a1c7",
   "metadata": {},
   "outputs": [
    {
     "data": {
      "text/plain": [
       "['My', 'name', 'is', 'Harshal']"
      ]
     },
     "execution_count": 43,
     "metadata": {},
     "output_type": "execute_result"
    }
   ],
   "source": [
    "s.split()"
   ]
  },
  {
   "cell_type": "code",
   "execution_count": 44,
   "id": "99073998-13b2-45c0-898c-24b92f656ff9",
   "metadata": {},
   "outputs": [],
   "source": [
    "s = \"My,name,is,Harshal\""
   ]
  },
  {
   "cell_type": "code",
   "execution_count": 46,
   "id": "1a726abb-eda2-4f4c-9ef0-787d3cd42b2a",
   "metadata": {},
   "outputs": [
    {
     "data": {
      "text/plain": [
       "['My', 'name', 'is', 'Harshal']"
      ]
     },
     "execution_count": 46,
     "metadata": {},
     "output_type": "execute_result"
    }
   ],
   "source": [
    "s.split(\",\")"
   ]
  },
  {
   "cell_type": "code",
   "execution_count": 47,
   "id": "1b45334a-90f7-4350-90ff-25a27cba4dae",
   "metadata": {},
   "outputs": [],
   "source": [
    "s = \"My@name@is@Harshal\""
   ]
  },
  {
   "cell_type": "code",
   "execution_count": 48,
   "id": "6f53c613-1947-4477-83be-d1bde2c1da4c",
   "metadata": {},
   "outputs": [
    {
     "data": {
      "text/plain": [
       "['My', 'name', 'is', 'Harshal']"
      ]
     },
     "execution_count": 48,
     "metadata": {},
     "output_type": "execute_result"
    }
   ],
   "source": [
    "s.split(\"@\")"
   ]
  },
  {
   "cell_type": "code",
   "execution_count": 49,
   "id": "f193e7fb-1009-4156-a501-fddc5c8ae9f9",
   "metadata": {},
   "outputs": [],
   "source": [
    "words = ['My', 'name', 'is', 'Harshal']"
   ]
  },
  {
   "cell_type": "code",
   "execution_count": 50,
   "id": "60bf428e-dce4-4005-93e6-4c9cdf62e3d8",
   "metadata": {},
   "outputs": [
    {
     "name": "stdout",
     "output_type": "stream",
     "text": [
      "My name is Harshal\n"
     ]
    }
   ],
   "source": [
    "s = \" \"\n",
    "\n",
    "s = s.join(words)\n",
    "\n",
    "print(s)"
   ]
  },
  {
   "cell_type": "markdown",
   "id": "ae9955f7-d738-4388-8b3c-94062a27224a",
   "metadata": {},
   "source": [
    "- Replace\n",
    "- Strip"
   ]
  },
  {
   "cell_type": "code",
   "execution_count": 51,
   "id": "b8765948-3a4e-435a-b95b-148ca30c0def",
   "metadata": {},
   "outputs": [],
   "source": [
    "s = \"My name is Harshal\""
   ]
  },
  {
   "cell_type": "code",
   "execution_count": 52,
   "id": "87c81ba1-9594-4501-bf69-38d08a9328b6",
   "metadata": {},
   "outputs": [
    {
     "data": {
      "text/plain": [
       "'My name is John'"
      ]
     },
     "execution_count": 52,
     "metadata": {},
     "output_type": "execute_result"
    }
   ],
   "source": [
    "s.replace(\"Harshal\", \"John\")"
   ]
  },
  {
   "cell_type": "code",
   "execution_count": 53,
   "id": "e20596ee-d7dd-47e3-b0c7-1cd2f99b0361",
   "metadata": {},
   "outputs": [],
   "source": [
    "s = \"My name is Harshal     \""
   ]
  },
  {
   "cell_type": "code",
   "execution_count": 54,
   "id": "07f9fef7-5816-44c6-b7f9-3663db3b8f51",
   "metadata": {},
   "outputs": [],
   "source": [
    "s = s.strip()"
   ]
  },
  {
   "cell_type": "code",
   "execution_count": 55,
   "id": "0d2de7a6-ea15-495d-a6ea-99c1837ca751",
   "metadata": {},
   "outputs": [
    {
     "name": "stdout",
     "output_type": "stream",
     "text": [
      "My name is Harshal\n"
     ]
    }
   ],
   "source": [
    "print(s)"
   ]
  },
  {
   "cell_type": "code",
   "execution_count": 56,
   "id": "7769ec3f-9db0-4768-a4f1-a22192ba3739",
   "metadata": {},
   "outputs": [],
   "source": [
    "s = \"My name is Harshal\""
   ]
  },
  {
   "cell_type": "code",
   "execution_count": 57,
   "id": "45a55b72-b6e5-45ca-a469-5e32a1b1944e",
   "metadata": {},
   "outputs": [
    {
     "data": {
      "text/plain": [
       "18"
      ]
     },
     "execution_count": 57,
     "metadata": {},
     "output_type": "execute_result"
    }
   ],
   "source": [
    "len(s)"
   ]
  },
  {
   "cell_type": "code",
   "execution_count": null,
   "id": "48a035a5-9408-4e83-8a4c-0d49287f5ea8",
   "metadata": {},
   "outputs": [],
   "source": []
  },
  {
   "cell_type": "code",
   "execution_count": null,
   "id": "3af022fd-b022-4cf0-bf49-4d6218e4e14e",
   "metadata": {},
   "outputs": [],
   "source": []
  },
  {
   "cell_type": "code",
   "execution_count": null,
   "id": "b0c90c69-fdef-4694-9395-0e14e06b5906",
   "metadata": {},
   "outputs": [],
   "source": []
  },
  {
   "cell_type": "code",
   "execution_count": null,
   "id": "79a95d37-48ae-4ee7-9240-3ab24835dbcf",
   "metadata": {},
   "outputs": [],
   "source": []
  },
  {
   "cell_type": "code",
   "execution_count": null,
   "id": "7c68f420-011a-4f0b-bc1e-a15b18d2cf17",
   "metadata": {},
   "outputs": [],
   "source": []
  }
 ],
 "metadata": {
  "kernelspec": {
   "display_name": "Python 3 (ipykernel)",
   "language": "python",
   "name": "python3"
  },
  "language_info": {
   "codemirror_mode": {
    "name": "ipython",
    "version": 3
   },
   "file_extension": ".py",
   "mimetype": "text/x-python",
   "name": "python",
   "nbconvert_exporter": "python",
   "pygments_lexer": "ipython3",
   "version": "3.11.9"
  }
 },
 "nbformat": 4,
 "nbformat_minor": 5
}
