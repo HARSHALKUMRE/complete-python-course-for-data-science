{
 "cells": [
  {
   "cell_type": "code",
   "execution_count": 1,
   "id": "d4e9cf08-f773-4f71-85b9-2934635b6893",
   "metadata": {},
   "outputs": [
    {
     "name": "stdout",
     "output_type": "stream",
     "text": [
      "1\n",
      "2\n",
      "3\n",
      "4\n",
      "5\n",
      "6\n",
      "7\n",
      "8\n",
      "9\n",
      "10\n"
     ]
    }
   ],
   "source": [
    "for i in range(1,11):\n",
    "    print(i)"
   ]
  },
  {
   "cell_type": "code",
   "execution_count": 2,
   "id": "c7669a01-c318-4d59-8e41-0928ae8d04ea",
   "metadata": {},
   "outputs": [
    {
     "name": "stdout",
     "output_type": "stream",
     "text": [
      "10\n",
      "9\n",
      "8\n",
      "7\n",
      "6\n",
      "5\n",
      "4\n",
      "3\n",
      "2\n",
      "1\n"
     ]
    }
   ],
   "source": [
    "for i in range(10,0,-1):\n",
    "    print(i)"
   ]
  },
  {
   "cell_type": "code",
   "execution_count": 3,
   "id": "d0f8c819-8c27-4b44-b883-b74315f4e56f",
   "metadata": {},
   "outputs": [
    {
     "name": "stdout",
     "output_type": "stream",
     "text": [
      "1\n",
      "4\n",
      "7\n",
      "10\n"
     ]
    }
   ],
   "source": [
    "for i in range(1, 11, 3):\n",
    "    print(i)"
   ]
  },
  {
   "cell_type": "code",
   "execution_count": 4,
   "id": "948bff73-7f23-4739-bfdc-1a502ec400d3",
   "metadata": {},
   "outputs": [
    {
     "name": "stdout",
     "output_type": "stream",
     "text": [
      "h\n",
      "a\n",
      "r\n",
      "s\n",
      "h\n",
      "a\n",
      "l\n"
     ]
    }
   ],
   "source": [
    "for i in \"harshal\":\n",
    "    print(i)"
   ]
  },
  {
   "cell_type": "code",
   "execution_count": 5,
   "id": "2e62737f-2233-479f-b401-2dd8cad8d09e",
   "metadata": {},
   "outputs": [
    {
     "name": "stdout",
     "output_type": "stream",
     "text": [
      "1\n",
      "2\n",
      "3\n",
      "4\n"
     ]
    }
   ],
   "source": [
    "for i in [1,2,3,4]:\n",
    "    print(i)"
   ]
  },
  {
   "cell_type": "code",
   "execution_count": 6,
   "id": "4a23d2ae-1af6-4d03-8427-72ab3e0c6666",
   "metadata": {},
   "outputs": [
    {
     "name": "stdout",
     "output_type": "stream",
     "text": [
      "1\n",
      "2\n",
      "3\n",
      "4\n"
     ]
    }
   ],
   "source": [
    "for i in (1,2,3,4):\n",
    "    print(i)"
   ]
  },
  {
   "cell_type": "code",
   "execution_count": 7,
   "id": "d39b3bbe-5e0f-423b-a55b-9bee1371e08a",
   "metadata": {},
   "outputs": [
    {
     "name": "stdout",
     "output_type": "stream",
     "text": [
      "harshal\n",
      "harshal\n",
      "harshal\n",
      "harshal\n",
      "harshal\n",
      "harshal\n",
      "harshal\n",
      "harshal\n",
      "harshal\n",
      "harshal\n"
     ]
    }
   ],
   "source": [
    "for i in range(1,11):\n",
    "    print(\"harshal\")"
   ]
  },
  {
   "cell_type": "markdown",
   "id": "d4d93750-28e4-48d5-b350-a938da657d31",
   "metadata": {},
   "source": [
    "Program - The current population of a town is 10000. The population of the town is increasing at the rate of 10% per year. You have to write a program to find out the population at the end of each of the last 10 years."
   ]
  },
  {
   "cell_type": "code",
   "execution_count": 8,
   "id": "1d096f39-e369-4fda-8d90-31cb6b38ecc8",
   "metadata": {},
   "outputs": [
    {
     "name": "stdout",
     "output_type": "stream",
     "text": [
      "10 10000\n",
      "9 9090.90909090909\n",
      "8 8264.462809917353\n",
      "7 7513.148009015775\n",
      "6 6830.134553650703\n",
      "5 6209.213230591548\n",
      "4 5644.739300537771\n",
      "3 5131.5811823070635\n",
      "2 4665.07380209733\n",
      "1 4240.976183724845\n"
     ]
    }
   ],
   "source": [
    "current_popln = 10000\n",
    "\n",
    "for i in range(10, 0, -1):\n",
    "    print(i, current_popln)\n",
    "    current_popln = current_popln / 1.1"
   ]
  },
  {
   "cell_type": "code",
   "execution_count": null,
   "id": "647246f8-9fc9-4a19-9bc7-8dcae19c18ec",
   "metadata": {},
   "outputs": [],
   "source": []
  }
 ],
 "metadata": {
  "kernelspec": {
   "display_name": "Python 3 (ipykernel)",
   "language": "python",
   "name": "python3"
  },
  "language_info": {
   "codemirror_mode": {
    "name": "ipython",
    "version": 3
   },
   "file_extension": ".py",
   "mimetype": "text/x-python",
   "name": "python",
   "nbconvert_exporter": "python",
   "pygments_lexer": "ipython3",
   "version": "3.11.9"
  }
 },
 "nbformat": 4,
 "nbformat_minor": 5
}
